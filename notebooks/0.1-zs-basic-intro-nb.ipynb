{
 "cells": [
  {
   "cell_type": "markdown",
   "id": "51b2b883",
   "metadata": {},
   "source": [
    "# Test Notebook\n",
    "Here's a basic notebook making sure some basic examples of libraries can be imported."
   ]
  },
  {
   "cell_type": "code",
   "execution_count": null,
   "id": "c1fc7ca1",
   "metadata": {},
   "outputs": [],
   "source": [
    "import numpy as np\n",
    "import pandas as pd\n",
    "import matplotlib.pyplot as plt"
   ]
  },
  {
   "cell_type": "code",
   "execution_count": null,
   "id": "5172b9e1",
   "metadata": {},
   "outputs": [],
   "source": [
    "x = np.linspace(-10,10, 500)\n",
    "y1 = 1.2*np.sin(5*x) #sinusoid\n",
    "y2 = 1.2*x * 0.01*x**2-0.0001*x**3 #linear trend with a bit of higher order polynomial\n",
    "y3 = 1.2*np.random.randn(len(x)) # gaussian noise\n",
    "y = y1+y2+y3"
   ]
  },
  {
   "cell_type": "code",
   "execution_count": null,
   "id": "7aedbe45",
   "metadata": {
    "scrolled": false
   },
   "outputs": [],
   "source": [
    "plt.rcParams['figure.figsize'] = [12,8]\n",
    "plt.rcParams['font.size'] = 16"
   ]
  },
  {
   "cell_type": "code",
   "execution_count": null,
   "id": "52db8094",
   "metadata": {},
   "outputs": [],
   "source": [
    "fix, ax = plt.subplots()\n",
    "ax.plot(x, y)\n",
    "ax.set(xlabel=\"X Axis Value Span (arbitrary units)\", ylabel=\"Y Values, 2-model plus noise\")"
   ]
  },
  {
   "cell_type": "code",
   "execution_count": null,
   "id": "ab42b0d7",
   "metadata": {},
   "outputs": [],
   "source": [
    "df = pd.DataFrame({\"X\":x, \"Y\":y})\n",
    "df.describe()"
   ]
  }
 ],
 "metadata": {
  "kernelspec": {
   "display_name": "Python 3 (ipykernel)",
   "language": "python",
   "name": "python3"
  },
  "language_info": {
   "codemirror_mode": {
    "name": "ipython",
    "version": 3
   },
   "file_extension": ".py",
   "mimetype": "text/x-python",
   "name": "python",
   "nbconvert_exporter": "python",
   "pygments_lexer": "ipython3",
   "version": "3.9.5"
  }
 },
 "nbformat": 4,
 "nbformat_minor": 5
}
