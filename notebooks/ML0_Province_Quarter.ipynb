{
 "cells": [
  {
   "attachments": {},
   "cell_type": "markdown",
   "metadata": {},
   "source": [
    "# Time series analysis of provinces and territories\n",
    "\n",
    "* This is essentially EDA, not part of ML framework, despite the file name\n",
    "* The second section can be repeated with different weight_cols or province_cols\n",
    "* requires a csv file in the same folder named 'down_up_lat_tests_by_quarter.csv'\n",
    "* Total runtime of ten seconds"
   ]
  },
  {
   "attachments": {},
   "cell_type": "markdown",
   "metadata": {},
   "source": [
    "## Library imports and read data"
   ]
  },
  {
   "cell_type": "code",
   "execution_count": null,
   "metadata": {},
   "outputs": [],
   "source": [
    "import pandas as pd\n",
    "import numpy as np\n",
    "import geopandas as gp\n",
    "import matplotlib.pyplot as plt \n",
    "import sys"
   ]
  },
  {
   "cell_type": "code",
   "execution_count": null,
   "metadata": {},
   "outputs": [],
   "source": [
    "time_data = pd.DataFrame()\n",
    "number_of_chunks = 5\n",
    "for idx in range(1, number_of_chunks+1):\n",
    "    time_data = pd.concat([time_data, pd.read_csv(f\"../data/hackathon/down_up_lat_tests_by_quarter_part{idx}.csv\")]);"
   ]
  },
  {
   "cell_type": "code",
   "execution_count": null,
   "metadata": {},
   "outputs": [],
   "source": [
    "down_cols = [col for col in time_data if col.startswith('d20')]\n",
    "up_cols = [col for col in time_data if col.startswith('u20')]\n",
    "lat_cols = [col for col in time_data if col.startswith('l20')]\n",
    "tests_cols = [col for col in time_data if col.startswith('t20')]"
   ]
  },
  {
   "cell_type": "code",
   "execution_count": null,
   "metadata": {},
   "outputs": [],
   "source": [
    "def weighted_mean(df, feature_cols, scale, weight_cols=None):\n",
    "    \n",
    "    if weight_cols==None:\n",
    "        result=pd.DataFrame({'PRNAME':time_data['PRNAME'].unique()})\n",
    "        result = result.merge(df.loc[:, ['PRNAME'] + feature_cols].groupby(['PRNAME']).mean()/scale, on='PRNAME')\n",
    "        return result\n",
    "    \n",
    "    else:\n",
    "        product=pd.DataFrame()\n",
    "        product['PRNAME'] = df['PRNAME']\n",
    "        result=pd.DataFrame({'PRNAME':time_data['PRNAME'].unique()})\n",
    "        for i in range(len(feature_cols)):\n",
    "            product[feature_cols[i]] = df[feature_cols[i]] * df[weight_cols[i]]\n",
    "            numerator = product.loc[:, ['PRNAME'] + [feature_cols[i]]].groupby(['PRNAME']).sum()\n",
    "            denominator = df.loc[:, ['PRNAME'] + [weight_cols[i]]].groupby(['PRNAME']).sum()\n",
    "            weighted = numerator[feature_cols[i]]/denominator[weight_cols[i]]\n",
    "            #result[feature_cols[i]] = weighted.values/1000\n",
    "            result = result.merge(pd.Series(weighted/scale, name=feature_cols[i]), on='PRNAME')\n",
    "        return result\n",
    "    \n",
    "def PRNAME_rename(df):\n",
    "    return df.rename(columns={'Alberta':'AB', 'British Columbia / Colombie-Britannique':'BC', 'Manitoba':'MB',\n",
    "       'New Brunswick / Nouveau-Brunswick':'NB',\n",
    "       'Newfoundland and Labrador / Terre-Neuve-et-Labrador':'NL',\n",
    "       'Northwest Territories / Territoires du Nord-Ouest':'NT',\n",
    "       'Nova Scotia / Nouvelle-Écosse':'NS',  'Nunavut':'NU', 'Ontario':'ON',\n",
    "       'Prince Edward Island / Île-du-Prince-Édouard':'PE', 'Quebec / Québec':'QC',\n",
    "       'Saskatchewan':'SK', 'Yukon':'YT'})\n",
    "    "
   ]
  },
  {
   "attachments": {},
   "cell_type": "markdown",
   "metadata": {},
   "source": [
    "## Average the provincial data and plot"
   ]
  },
  {
   "cell_type": "code",
   "execution_count": null,
   "metadata": {},
   "outputs": [],
   "source": [
    "#Make weight_cols None for unweighted averaging and tests_cols for weighted by tests\n",
    "weight_cols = None\n",
    "#weight_cols = tests_cols\n",
    "\n",
    "province_down_data = weighted_mean(time_data, down_cols, 1000, weight_cols).set_index('PRNAME').T\n",
    "province_up_data = weighted_mean(time_data, up_cols, 1000, weight_cols).set_index('PRNAME').T\n",
    "province_lat_data = weighted_mean(time_data, lat_cols, 1, weight_cols).set_index('PRNAME').T"
   ]
  },
  {
   "cell_type": "code",
   "execution_count": null,
   "metadata": {},
   "outputs": [],
   "source": [
    "province_down_data = PRNAME_rename(province_down_data)\n",
    "province_up_data = PRNAME_rename(province_up_data)\n",
    "province_lat_data = PRNAME_rename(province_lat_data)\n",
    "\n",
    "province_down_data.index = province_down_data.index.str[1:]\n",
    "province_up_data.index = province_up_data.index.str[1:]\n",
    "province_lat_data.index = province_lat_data.index.str[1:]"
   ]
  },
  {
   "cell_type": "code",
   "execution_count": null,
   "metadata": {},
   "outputs": [],
   "source": [
    "#province_cols = ['AB', 'BC', 'MB', 'NB', 'NL', 'NT', 'NU', 'NS', 'ON', 'PE', 'QC', 'SK', 'YT']\n",
    "province_cols = ['BC', 'AB', 'QC', 'ON', 'MB', 'SK']\n",
    "\n",
    "ax = province_down_data[province_cols].plot(figsize=(10,5))\n",
    "ax.axhline(50, color='k')\n",
    "plt.ylim(-5, 260)\n",
    "plt.title(\"Average download speed (Mbps)\")\n",
    "plt.legend(loc='upper left')\n",
    "plt.show()\n",
    "\n",
    "ax = province_up_data[province_cols].plot(figsize=(10,5))\n",
    "ax.axhline(10, color='k')\n",
    "plt.ylim(-5, 130)\n",
    "plt.title(\"Average upload speed (Mbps)\")\n",
    "plt.legend(loc='upper left')\n",
    "plt.show()\n",
    "\n",
    "\n",
    "ax = province_lat_data[province_cols].plot(figsize=(10,5))\n",
    "plt.ylim(-5, 500)\n",
    "plt.title(\"Average latency (ms)\")\n",
    "plt.legend(loc='upper left')\n",
    "plt.show()"
   ]
  },
  {
   "attachments": {},
   "cell_type": "markdown",
   "metadata": {},
   "source": [
    "## Nunavut is an outlier. Why?"
   ]
  },
  {
   "cell_type": "code",
   "execution_count": null,
   "metadata": {},
   "outputs": [],
   "source": [
    "#ax = time_data[time_data['PRNAME']=='Nunavut'].loc[:, down_cols].describe().loc['count'].plot(figsize=(10,5), style='*-')\n",
    "series = time_data[tests_cols][time_data['PRNAME']=='Nunavut'].sum()\n",
    "series.index = series.index.str[1:]\n",
    "ax = series.plot(figsize=(10,5), style='.-')\n",
    "ax.set_ylabel(\"Number of tests reported\")\n",
    "ax.set_title(\"Nunavut test data\")\n",
    "#ax.axhline(0, color='k')\n",
    "\n",
    "def label_point(x, y, val, ax):\n",
    "    for i in range(len(x)):\n",
    "        ax.text(x[i]+0.05, y[i]+10, int(val[i]))\n",
    "label_point(range(len(series.index)), series.values, series.values, ax)"
   ]
  }
 ],
 "metadata": {
  "kernelspec": {
   "display_name": "ookla-statcan-test",
   "language": "python",
   "name": "python3"
  },
  "language_info": {
   "codemirror_mode": {
    "name": "ipython",
    "version": 3
   },
   "file_extension": ".py",
   "mimetype": "text/x-python",
   "name": "python",
   "nbconvert_exporter": "python",
   "pygments_lexer": "ipython3",
   "version": "3.10.10"
  },
  "orig_nbformat": 4
 },
 "nbformat": 4,
 "nbformat_minor": 2
}
