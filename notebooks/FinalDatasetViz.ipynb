{
 "cells": [
  {
   "attachments": {},
   "cell_type": "markdown",
   "id": "7ebaa308-8d14-40d9-9ff3-e1ecef5de966",
   "metadata": {},
   "source": [
    "## Analysis for the Urban and Rural areas\n",
    "\n",
    "As one of our research questions was to see the differences between what was considered urban vs rural areas, one of the objectives for this question was to find a way to define for each entry how to consider it a developed urban area or a low population density rural area. According to the case study performed by Cybera (Towards a clear understanding or rural internet) For comparing rural and municipal internet speeds, we could check if the entry or tile in that entry was assigned to a PCCLASS (Population Centry Type).\n",
    "\n",
    "Considering the previous statement, we could guess that any entry/tile with a \"Null\" value in the PCCLASS column could refer to a rural area. The other values for the Population Centre Type are:\n",
    "- 2 = Small Population Centre (population between 1,000 and 29,999)\n",
    "- 3 = Medium Population Centre (population between 30,000 and 99,999)\n",
    "- 4 = Large urban Population Centre (population of 100,000 or more)\n",
    "\n",
    "Before trying to analyze those tiles/entries without a PCCLASS, we could see how the Population Centres are performing in regards to the goal desired of 50 Mbps of download internet speed."
   ]
  },
  {
   "cell_type": "code",
   "execution_count": null,
   "id": "93db5ccb-202b-4039-a669-5ae24702e760",
   "metadata": {
    "tags": []
   },
   "outputs": [],
   "source": [
    "# Getting libraries ready\n",
    "import pandas as pd\n",
    "import numpy as np\n",
    "import matplotlib.pyplot as plt\n",
    "import geopandas as gpd\n",
    "import os"
   ]
  },
  {
   "attachments": {},
   "cell_type": "markdown",
   "id": "3d571dd8",
   "metadata": {},
   "source": []
  },
  {
   "cell_type": "code",
   "execution_count": null,
   "id": "3461d123-1dae-4ad6-9ab6-7fc8809b1e0d",
   "metadata": {
    "tags": []
   },
   "outputs": [],
   "source": [
    "# Change the directory to access the Final.csv\n",
    "# os.chdir('/home/jovyan/data')\n",
    "os.chdir('../data/hackathon')"
   ]
  },
  {
   "cell_type": "code",
   "execution_count": null,
   "id": "46c1bcf9-100e-463c-9030-4520a3931a3f",
   "metadata": {
    "tags": []
   },
   "outputs": [],
   "source": [
    "# Loading the dataset\n",
    "finalData = pd.read_csv('Final.csv')\n",
    "finalData.head()"
   ]
  },
  {
   "cell_type": "code",
   "execution_count": null,
   "id": "7348d748-8e8a-4520-8b28-6256fb9eaf1c",
   "metadata": {},
   "outputs": [],
   "source": [
    "# Let's consider only the entries in which the PCCLASS is defined.\n",
    "finalDataPC = finalData[finalData['PCCLASS'].notnull()]"
   ]
  },
  {
   "cell_type": "code",
   "execution_count": null,
   "id": "129f63ea-07c1-4b03-ae7a-f21bb3990690",
   "metadata": {
    "tags": []
   },
   "outputs": [],
   "source": [
    "finalDataPC.tail()"
   ]
  },
  {
   "cell_type": "code",
   "execution_count": null,
   "id": "a54031af-e093-4aff-8bb3-d769687721b0",
   "metadata": {
    "tags": []
   },
   "outputs": [],
   "source": [
    "# Boxplot behavior for the Population Centre Type\n",
    "import seaborn as sns\n",
    "\n",
    "sns.set_style(\"darkgrid\", {\"grid.color\": \".6\", \"grid.linestyle\": \":\"})\n",
    "sns.set(rc={'figure.figsize':(11.7,8.27)})\n",
    "\n",
    "g = sns.boxplot(data=finalDataPC, x=\"avg_d_kbps\", \n",
    "                                    y=\"PCCLASS\",  \n",
    "                                    orient = 'h')\n",
    "                                    #showfliers = False)\n",
    "\n",
    "plt.xlabel('Avg. Download in kbps')\n",
    "plt.ylabel('Population Centre Class')\n",
    "plt.yticks([0, 1, 2], ['Small P. Centre', 'Medium P. Centre', 'Large P. Centre'])\n",
    "plt.title('Behavior for the Average Download Speed in 2019 for the defined Population Centres')\n",
    "plt.axvline(50000, linestyle='--')\n",
    "plt.show(g)"
   ]
  },
  {
   "attachments": {},
   "cell_type": "markdown",
   "id": "505f368d-c793-4b34-b44d-d2ae51a24911",
   "metadata": {},
   "source": [
    "As expected, we can see that the greater the Population Centre is, the more tiles/entries associated with that centre actually surpass the goal of 50 Mbps for internet downloads. We can clearly notice that for the Small Population Centre, in average their lower quartile value is even below the goal of 50 Mbps.\n",
    "\n",
    "Another visualization we could perform to see the performance of these centres is to see the relationship between the population density and the internet download speed based on the PCCLASS, with the use of a scatterplot:"
   ]
  },
  {
   "cell_type": "code",
   "execution_count": null,
   "id": "c59d9017-e04f-4fb2-8a31-c013320c9b7d",
   "metadata": {},
   "outputs": [],
   "source": [
    "#Scatter plot for the AVG download speeds among the population density of each Population Centre\n",
    "\n",
    "sns.set_style(\"darkgrid\", {\"grid.color\": \".6\", \"grid.linestyle\": \":\"})\n",
    "sns.set(rc={'figure.figsize':(11.7,8.27)})\n",
    "\n",
    "g = sns.scatterplot(data=finalDataPC, x=\"POP_DENSITY\", \n",
    "                                    y=\"avg_d_kbps\", \n",
    "                                    hue=\"PCCLASS\", \n",
    "                                    palette=\"deep\")\n",
    "\n",
    "plt.xlabel('Population Density in 2019')\n",
    "plt.ylabel('Avg. Download in kbps')\n",
    "plt.legend(title='Population Centre Class', loc='upper right')\n",
    "plt.title('Average Download Speed in contrast to the population density of 2019 for the defined Population Centres')\n",
    "plt.axhline(50000, linestyle='--')\n",
    "plt.show(g)"
   ]
  },
  {
   "attachments": {},
   "cell_type": "markdown",
   "id": "71dce224-a405-48c6-b4ed-3f239cb77f65",
   "metadata": {},
   "source": [
    "Even though we can still see that most of the tiles associated with a small population centre performed beyond the established expectations, it is still the most common PCCLASS value found within the area refering to those tiles or entries in which the goal of 50 Mbps was not reached.\n",
    "\n",
    "Now, considering some of the small population centres are not performing within the expected goal, we can analyze how those tile areas with no defined PCCLASS, considering them to be rural areas, are performing in the same internet speed tests. In order to analyze such entries, the \"Null\" value in the PCCLASS column was changed to \"Outside\"."
   ]
  },
  {
   "cell_type": "code",
   "execution_count": null,
   "id": "8236ac30-37c4-4f96-84b2-ecd6670c03fd",
   "metadata": {
    "tags": []
   },
   "outputs": [],
   "source": [
    "#Let's change the NaN values for the PCCLASS cells in such entries\n",
    "# Let's convert the NULL values into \"Outside\"\n",
    "finalData['PCCLASS'].fillna(\"Outside\", inplace = True)"
   ]
  },
  {
   "cell_type": "code",
   "execution_count": null,
   "id": "71aa014e-c687-4e9c-a059-18956ee8ef0a",
   "metadata": {
    "tags": []
   },
   "outputs": [],
   "source": [
    "# Boxplot behavior for the Population Centre Type\n",
    "sns.set_style(\"darkgrid\", {\"grid.color\": \".6\", \"grid.linestyle\": \":\"})\n",
    "sns.set(rc={'figure.figsize':(11.7,8.27)})\n",
    "\n",
    "g = sns.boxplot(data=finalData, x=\"avg_d_kbps\", \n",
    "                                    y=\"PCCLASS\",  \n",
    "                                    orient = 'h')\n",
    "                                    #showfliers = False)\n",
    "\n",
    "plt.xlabel('Avg. Download in kbps')\n",
    "plt.ylabel('Population Centre Class')\n",
    "plt.title('Behavior for the Average Download Speed in 2019 for all areas - Population Centres vs. Rural/Outside areas')\n",
    "plt.axvline(50000, linestyle='--')\n",
    "plt.show(g)"
   ]
  },
  {
   "attachments": {},
   "cell_type": "markdown",
   "id": "27502f54-801d-4000-b60f-b782629e815a",
   "metadata": {},
   "source": [
    "As expected considering these entries as rural areas, we can clearly spot the difference in performance for the internet speed tests for all the tiles/entries without a PCCLASS. Most of these cases were not capable of reaching the goal of 50 Mbps in 2019, and more context would be needed in order to understand why some cases could have such a high internet download speeds, which could refer to research centres in zone far away from an urban area, as well as the area depending on which province is it located.\n",
    "\n",
    "If the CRTC wants to target low internet speed areas, with the previous visualizations, it's safe to say that checking the Population Centre Type of such areas could be a good indicator of how good that area is performing."
   ]
  }
 ],
 "metadata": {
  "kernelspec": {
   "display_name": "Python 3 (ipykernel)",
   "language": "python",
   "name": "python3"
  },
  "language_info": {
   "codemirror_mode": {
    "name": "ipython",
    "version": 3
   },
   "file_extension": ".py",
   "mimetype": "text/x-python",
   "name": "python",
   "nbconvert_exporter": "python",
   "pygments_lexer": "ipython3",
   "version": "3.10.10"
  }
 },
 "nbformat": 4,
 "nbformat_minor": 5
}
