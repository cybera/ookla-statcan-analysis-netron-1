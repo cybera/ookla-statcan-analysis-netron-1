{
 "cells": [
  {
   "cell_type": "markdown",
   "metadata": {},
   "source": [
    "# Summary\n",
    "Calculates aggregate internet speed test statistics (Ookla) over a modified version of the Canada hexagons. The speed test \n",
    "statistics are contrasted with the 50/10 Mbps access levels reported in the national broadband map. \n",
    "\n",
    "In particular, access levels calculated as a percentage of the speed tests that meet the 50/10 Mbps speed threshold are calculated. \n",
    "In some areas this level of \"experienced\" internet speeds is lower than the bucket (0%,25%,50%,75%,100%) assgined \n",
    "to the area in the broadband map. \n",
    "\n",
    "The speed test statistics do not match 100% with the 50/10 levels from the broadband map for a few reasons:\n",
    "\n",
    "- Broadband map is nominal \"access\" to internet while Ookla speed tests are measured current speeds, and \n",
    "- Speed tests are quarterly _averages_ from small (~500m X 500m) areas, meaning we have averages of averages.\n",
    "\n",
    "Together, the above indicate some discrepancies in directly comparing the two datasets; however, based on the trends in the speed test data \n",
    "which have significant skew, it suggests that many individuals or households have \"realized\" internet speeds \n",
    "below the evaluation indicated in the national broadband map.   "
   ]
  },
  {
   "cell_type": "code",
   "execution_count": null,
   "metadata": {},
   "outputs": [],
   "source": [
    "import sys\n",
    "sys.path.append(\"..\")\n",
    "\n",
    "%load_ext autoreload\n",
    "%autoreload 1\n",
    "%aimport src.datasets.joins\n",
    "%aimport src.datasets.loading.statcan"
   ]
  },
  {
   "cell_type": "code",
   "execution_count": null,
   "metadata": {},
   "outputs": [],
   "source": [
    "import numpy as np\n",
    "import pandas as pd\n",
    "import matplotlib.pyplot as plt \n",
    "from src.datasets.loading import statcan\n",
    "from src.datasets.loading import ookla\n",
    "from src.datasets import overlays\n",
    "\n",
    "import statsmodels as sm\n",
    "# import statsmodels.stats.weightstats\n",
    "from scipy.stats import lognorm"
   ]
  },
  {
   "cell_type": "code",
   "execution_count": null,
   "metadata": {},
   "outputs": [],
   "source": [
    "from src.datasets import joins"
   ]
  },
  {
   "cell_type": "code",
   "execution_count": null,
   "metadata": {},
   "outputs": [],
   "source": [
    "popctrs = statcan.boundary('population_centres')"
   ]
  },
  {
   "cell_type": "code",
   "execution_count": null,
   "metadata": {},
   "outputs": [],
   "source": [
    "o = joins.hexagons_popctrs_combined()"
   ]
  },
  {
   "cell_type": "code",
   "execution_count": null,
   "metadata": {},
   "outputs": [],
   "source": [
    "tiles = ookla.canada_speed_tiles().loc[lambda s:(s.year==2022 ) & (s.conn_type=='fixed')]\n",
    "tiles = tiles.to_crs(popctrs.crs)"
   ]
  },
  {
   "cell_type": "code",
   "execution_count": null,
   "metadata": {},
   "outputs": [],
   "source": [
    "o_statted = joins.add_simple_stats(o, tiles, 'HEXUID_PCPUID')       \n",
    "o_statted = joins.add_50_10_stats(o_statted, tiles, 'HEXUID_PCPUID')\n",
    "o_statted = o_statted.merge(statcan.hexagon_data(), on='HEXuid_HEXidu', how='left')"
   ]
  },
  {
   "cell_type": "code",
   "execution_count": null,
   "metadata": {},
   "outputs": [],
   "source": [
    "phh = statcan.phh_geometry().merge(statcan.phh_data(), on='PHH_ID')\n",
    "o_statted = joins.add_phh_pop(o_statted, phh, 'HEXUID_PCPUID')"
   ]
  },
  {
   "cell_type": "code",
   "execution_count": null,
   "metadata": {},
   "outputs": [],
   "source": [
    "def breakpoint(value):\n",
    "    if value == '>75% -  100%':\n",
    "        return 0.75\n",
    "    elif value == '>50% - 75%':\n",
    "        return 0.5\n",
    "    elif value == '>25% - 50%':\n",
    "        return 0.25\n",
    "    elif value == '>0% - 25%':\n",
    "        return 0.0\n",
    "    else:\n",
    "        return 0.0\n",
    "\n",
    "o_statted['access_level_numerical'] = o_statted.Avail_50_10_Gradient_Dispo.apply(breakpoint)"
   ]
  },
  {
   "cell_type": "code",
   "execution_count": null,
   "metadata": {},
   "outputs": [],
   "source": [
    "for col in o_statted:\n",
    "    if \"kbps\" in col:\n",
    "        o_statted[col] /= 1000\n",
    "        o_statted.rename(columns={col:col.replace('kbps','Mbps')}, inplace=True)"
   ]
  },
  {
   "cell_type": "code",
   "execution_count": null,
   "metadata": {},
   "outputs": [],
   "source": [
    "def calculate_50_10_level(p50down, p10up):\n",
    "    p = min(p50down, p10up)\n",
    "\n",
    "    if p== 0:\n",
    "        return '0% - Unavailable'\n",
    "    elif p < 25:\n",
    "        return '0%-25%'\n",
    "    elif p < 5:\n",
    "        return '25%-50%'\n",
    "    elif p < 75:\n",
    "        return '50%-75%'\n",
    "    elif p < 100:\n",
    "        return  '75%-100%'\n",
    "    elif p ==100:\n",
    "        return '100%'\n",
    "    else:\n",
    "        return 'Unknown'\n",
    "    \n",
    "def ookla_numerical(v):\n",
    "    if v == '100%':\n",
    "        return 1.0\n",
    "    elif v == '75%-100%':\n",
    "        return 0.75\n",
    "    elif v == '50%-75%':\n",
    "        return 0.5\n",
    "    elif v == '25%-50%':\n",
    "        return 0.25\n",
    "    else:\n",
    "        return 0.0\n",
    "\n",
    "o_statted['Ookla_Avail_50_10'] = o_statted.apply(lambda s:calculate_50_10_level(s['50_down_percentile'],s['10_up_percentile']), axis=1)\n",
    "#o_statted['Ookla_Avail_50_10_numerical'] = o_statted['Ookla_Avail_50_10'].apply(ookla_numerical)\n",
    "o_statted['Ookla_Avail_50_10_numerical'] = o_statted.apply(lambda s:min(s['50_down_percentile'],s['10_up_percentile']), axis=1)\n"
   ]
  },
  {
   "cell_type": "code",
   "execution_count": null,
   "metadata": {},
   "outputs": [],
   "source": [
    "o_statted['is_overestimated'] = o_statted['Ookla_Avail_50_10_numerical'] < o_statted['access_level_numerical']"
   ]
  },
  {
   "cell_type": "code",
   "execution_count": null,
   "metadata": {},
   "outputs": [],
   "source": [
    "xmin, ymin, xmax, ymax = popctrs.loc[lambda s:s.PCNAME==\"Brooks\"].buffer(50_000).total_bounds\n",
    "popup=['HEXUID_PCPUID', 'Pop2016',\n",
    "    'Avail_50_10_Gradient_Dispo', \n",
    "    'Ookla_Avail_50_10', '50_down_percentile', '10_up_percentile',\n",
    "    'is_overestimated',\n",
    "    'avg_d_Mbps', 'min_d_Mbps', '25p_d_Mbps', '50p_d_Mbps', '75p_d_Mbps', 'max_d_Mbps', \n",
    "    'avg_u_Mbps', 'min_u_Mbps', '25p_u_Mbps', '50p_u_Mbps', '75p_u_Mbps', 'max_u_Mbps', \n",
    "    'avg_lat_ms', \n",
    "    'tests',\n",
    "    'unique_devices', \n",
    "    'num_tiles',#'SumPop_2016_SommePop', 'SumURD_2016_SommeRH', 'SumTD_2016_SommeTL',\n",
    "]\n",
    "\n",
    "subset = o_statted.cx[xmin:xmax, ymin:ymax].loc[lambda s:(s.avg_d_Mbps > 0) | (s.Pop2016 > 0)]\n",
    "subset.explore(\n",
    "    'Ookla_Avail_50_10_numerical', \n",
    "    scheme='equalinterval', k = 4,\n",
    "    tooltip=['HEXUID_PCPUID','Pop2016','tests','Avail_50_10_Gradient_Dispo','Ookla_Avail_50_10'],\n",
    "    popup=popup)#cmap=['orange','green','yellow','blue','red','gray'])#, vmin=0, vmax=300)"
   ]
  }
 ],
 "metadata": {
  "kernelspec": {
   "display_name": "Python 3 (ipykernel)",
   "language": "python",
   "name": "python3"
  },
  "language_info": {
   "codemirror_mode": {
    "name": "ipython",
    "version": 3
   },
   "file_extension": ".py",
   "mimetype": "text/x-python",
   "name": "python",
   "nbconvert_exporter": "python",
   "pygments_lexer": "ipython3",
   "version": "3.10.10"
  },
  "vscode": {
   "interpreter": {
    "hash": "7baa5682b3ee41d95f3e6c53f6f101854543f295d881c00164f5d254f1692751"
   }
  }
 },
 "nbformat": 4,
 "nbformat_minor": 4
}
