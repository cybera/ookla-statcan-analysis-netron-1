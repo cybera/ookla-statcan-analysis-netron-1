{
 "cells": [
  {
   "cell_type": "markdown",
   "metadata": {},
   "source": [
    "# Summary\n",
    "This notebook deomnstrates very basic usage of the loading python modules. Datasets used include the Ookla tile data, \n",
    "Statistics Canada hexagons and Pseudo-household population distribution. The data is geographic info on internet speed \n",
    "test results as well as population data and nominal access to internet based on the National Broadband Map. "
   ]
  },
  {
   "cell_type": "code",
   "execution_count": null,
   "metadata": {},
   "outputs": [],
   "source": [
    "import sys\n",
    "sys.path.append(\"..\")\n",
    "# Useful for testing/debugging in Jupyter\n",
    "# %load_ext autoreload\n",
    "# %autoreload 1\n",
    "# %aimport src.datasets.loading.statcan \n",
    "\n",
    "import pandas as pd\n",
    "import matplotlib.pyplot as plt \n",
    "from src.datasets.loading import statcan\n",
    "from src.datasets.loading import ookla"
   ]
  },
  {
   "cell_type": "markdown",
   "metadata": {},
   "source": [
    "## Load Datasets\n",
    "Load the data and display samples of their content."
   ]
  },
  {
   "cell_type": "code",
   "execution_count": null,
   "metadata": {},
   "outputs": [],
   "source": [
    "#calcs take about 5 minutes\n",
    "hex_data = statcan.hexagon_geometry().merge(statcan.hexagons_phh(), how='right', on=\"HEXuid_HEXidu\")\n",
    "tiles = ookla.canada_speed_tiles()\n",
    "hex_data = hex_data.to_crs(tiles.crs)"
   ]
  },
  {
   "cell_type": "code",
   "execution_count": null,
   "metadata": {},
   "outputs": [],
   "source": [
    "tiles.head(2)"
   ]
  },
  {
   "cell_type": "code",
   "execution_count": null,
   "metadata": {},
   "outputs": [],
   "source": [
    "hex_data.head(2)"
   ]
  },
  {
   "cell_type": "markdown",
   "metadata": {},
   "source": [
    "## Compute Spatial Joins \n",
    "Merge data based on it's location. For this data, identify smaller Ookla tiles which are inside the \n",
    "federal government hexagon areas."
   ]
  },
  {
   "cell_type": "code",
   "execution_count": null,
   "metadata": {},
   "outputs": [],
   "source": [
    "spatial_join = hex_data.sjoin(tiles) # calc takes about 3 minutes"
   ]
  },
  {
   "cell_type": "code",
   "execution_count": null,
   "metadata": {},
   "outputs": [],
   "source": [
    "spatial_join.head(2)"
   ]
  },
  {
   "cell_type": "markdown",
   "metadata": {},
   "source": [
    "## Aggregate Join Info\n",
    "The above spatial join adds hexagon information to individual tiles, and we'd like to \n",
    "aggregate and calculate some statistics on the overall hexagon areas."
   ]
  },
  {
   "cell_type": "code",
   "execution_count": null,
   "metadata": {},
   "outputs": [],
   "source": [
    "grps = spatial_join.loc[lambda s:(s.year ==2022) & (s.conn_type=='fixed')].groupby('HEXuid_HEXidu')\n",
    "hex_aggs = pd.concat([\n",
    "    grps['avg_d_kbps'].mean(),\n",
    "    grps['avg_u_kbps'].mean(),\n",
    "    grps['avg_lat_ms'].mean(),\n",
    "    grps['tests'].sum(),\n",
    "    grps['devices'].sum(),\n",
    "],axis=1)"
   ]
  },
  {
   "cell_type": "code",
   "execution_count": null,
   "metadata": {},
   "outputs": [],
   "source": [
    "hex_aggs.head(5)"
   ]
  },
  {
   "cell_type": "code",
   "execution_count": null,
   "metadata": {},
   "outputs": [],
   "source": [
    "hex_data_w_speeds = hex_data.merge(hex_aggs, left_on='HEXuid_HEXidu',right_index=True)"
   ]
  },
  {
   "cell_type": "markdown",
   "metadata": {},
   "source": [
    "## Visualizations\n",
    "Plot the hexagons accross Canada, and also compare population of hexagon area to dowload speed of 50 Mbps."
   ]
  },
  {
   "cell_type": "code",
   "execution_count": null,
   "metadata": {},
   "outputs": [],
   "source": [
    "ax = hex_data_w_speeds.plot(column='avg_d_kbps', legend=True, vmin=0, vmax=100e3, figsize=(14,10))\n",
    "ax.set(xlabel=\"Degrees Longitude\", ylabel=\"Degrees Latitude\")\n",
    "ax.set_title(\"Average Download Speed (kbps)\")\n",
    "statcan.boundary('provinces').to_crs(hex_data_w_speeds.crs).boundary.plot(ax=ax);"
   ]
  },
  {
   "cell_type": "code",
   "execution_count": null,
   "metadata": {},
   "outputs": [],
   "source": [
    "hex_data_w_speeds.plot.scatter(x='Pop2016',y='avg_d_kbps')\n",
    "ax = plt.gca()\n",
    "ax.axhline(50e3,color='k', zorder=100);"
   ]
  }
 ],
 "metadata": {
  "kernelspec": {
   "display_name": "Python 3 (ipykernel)",
   "language": "python",
   "name": "python3"
  },
  "language_info": {
   "codemirror_mode": {
    "name": "ipython",
    "version": 3
   },
   "file_extension": ".py",
   "mimetype": "text/x-python",
   "name": "python",
   "nbconvert_exporter": "python",
   "pygments_lexer": "ipython3",
   "version": "3.10.6"
  },
  "orig_nbformat": 4,
  "vscode": {
   "interpreter": {
    "hash": "79254e3eb22c8236c8e7090afb03178180c1f1ca1d5b5ec09ce1a3f8b78f41fd"
   }
  }
 },
 "nbformat": 4,
 "nbformat_minor": 2
}
