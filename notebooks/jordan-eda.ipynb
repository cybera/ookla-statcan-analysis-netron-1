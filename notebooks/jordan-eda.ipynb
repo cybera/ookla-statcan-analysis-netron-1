{
 "cells": [
  {
   "cell_type": "code",
   "execution_count": null,
   "id": "ce0e8d1d-75e1-4061-930c-015c4ab6b103",
   "metadata": {
    "tags": []
   },
   "outputs": [],
   "source": [
    "import pandas as pd\n",
    "from dbfread import DBF"
   ]
  },
  {
   "cell_type": "code",
   "execution_count": null,
   "id": "c8b5245e-b917-4d47-90aa-a7d7f0af6b6c",
   "metadata": {
    "tags": []
   },
   "outputs": [],
   "source": [
    "# Unzip files for analysis, this could take a minute or two\n",
    "!unzip -o \"../data/ookla-raw/performance/type=fixed/year=2022/quarter=1/2022-01-01_performance_fixed_tiles.zip\" -d \"../data/ookla-raw/performance/type=fixed/year=2022/quarter=1\""
   ]
  },
  {
   "cell_type": "code",
   "execution_count": null,
   "id": "5fc2f97a-0fe3-4621-81fb-4571cc96a0b7",
   "metadata": {
    "tags": []
   },
   "outputs": [],
   "source": [
    "# And the second file\n",
    "!unzip -o \"../data/ookla-raw/performance/type=mobile/year=2022/quarter=1/2022-01-01_performance_mobile_tiles.zip\" -d \"../data/ookla-raw/performance/type=mobile/year=2022/quarter=1\""
   ]
  },
  {
   "cell_type": "code",
   "execution_count": null,
   "id": "da650db4-7b70-4451-b362-9b6d223442b0",
   "metadata": {
    "tags": []
   },
   "outputs": [],
   "source": [
    "df = pd.read_csv('../data/features_table.csv')\n",
    "df"
   ]
  },
  {
   "cell_type": "code",
   "execution_count": null,
   "id": "f7037c31-2c35-4b3a-9955-f10d20466e90",
   "metadata": {
    "tags": []
   },
   "outputs": [],
   "source": [
    "df2 = pd.read_csv('../data/census_data/98-400-X2016003_English_CSV_data.csv')\n",
    "df2"
   ]
  },
  {
   "cell_type": "markdown",
   "id": "8dd45b04-c83e-45e0-911e-82504a404a3e",
   "metadata": {},
   "source": [
    "# Ookla Fixed Data (Q1 2022)\n",
    "\n",
    "Look at data from fixed internet connections"
   ]
  },
  {
   "cell_type": "code",
   "execution_count": null,
   "id": "abf1deba-28cd-4cb3-be9c-ff8e45d2c42b",
   "metadata": {
    "tags": []
   },
   "outputs": [],
   "source": [
    "dbf_f = DBF('../data/ookla-raw/performance/type=fixed/year=2022/quarter=1/gps_fixed_tiles.dbf')\n",
    "dbf_fixed = pd.DataFrame(iter(dbf_f))\n",
    "dbf_fixed"
   ]
  },
  {
   "cell_type": "code",
   "execution_count": null,
   "id": "8da568e9-6810-4156-9865-3372ed64b2f1",
   "metadata": {
    "tags": []
   },
   "outputs": [],
   "source": [
    "dbf_fixed.hist('avg_d_kbps', range=(0,1e6), density=True)"
   ]
  },
  {
   "cell_type": "markdown",
   "id": "efdef9f0-e9db-434e-8f92-979ef58ffb78",
   "metadata": {},
   "source": [
    "# Ookla Mobile Data (Q1 2022)\n",
    "\n",
    "Look at data from mobile internet connections"
   ]
  },
  {
   "cell_type": "code",
   "execution_count": null,
   "id": "55116900-9a8d-49a8-a3e5-2b33dedae644",
   "metadata": {
    "tags": []
   },
   "outputs": [],
   "source": [
    "dbf_m = DBF('../data/ookla-raw/performance/type=mobile/year=2022/quarter=1/gps_mobile_tiles.dbf')\n",
    "dbf_mobile = pd.DataFrame(iter(dbf_m))\n",
    "dbf_mobile"
   ]
  },
  {
   "cell_type": "code",
   "execution_count": null,
   "id": "01dda1d6-b6d1-4077-9f5b-dd2712934142",
   "metadata": {
    "tags": []
   },
   "outputs": [],
   "source": [
    "dbf_mobile.hist('avg_d_kbps', range=(0,1e6), density=True)"
   ]
  },
  {
   "cell_type": "code",
   "execution_count": null,
   "id": "04323246-6f07-4d90-bd97-6fb9a9e540d4",
   "metadata": {
    "tags": []
   },
   "outputs": [],
   "source": [
    "test = dbf_mobile['quadkey'].to_list() + dbf_fixed['quadkey'].to_list()\n",
    "print(f'Total rows in both sets combined: {len(test)}')"
   ]
  },
  {
   "cell_type": "markdown",
   "id": "7bf16115-9003-4528-9095-f02db7435e20",
   "metadata": {},
   "source": [
    "# Join datasets\n",
    "\n",
    "See how many mobile `quadkeys` match with fixed `quadkeys`\n",
    "\n",
    "Fixed - mobile"
   ]
  },
  {
   "cell_type": "code",
   "execution_count": null,
   "id": "30c97486-4a3e-44d2-92f3-75f484780080",
   "metadata": {
    "tags": []
   },
   "outputs": [],
   "source": [
    "comb = dbf_fixed.merge(dbf_mobile, how='left', on='quadkey')\n",
    "comb"
   ]
  },
  {
   "cell_type": "code",
   "execution_count": null,
   "id": "da87b146-f9ec-4f41-a9cf-b56a732298cd",
   "metadata": {
    "tags": []
   },
   "outputs": [],
   "source": [
    "comb['down_diff'] = comb['avg_d_kbps_x'] - comb['avg_d_kbps_y']\n",
    "comb['down_diff'].unique())"
   ]
  },
  {
   "cell_type": "code",
   "execution_count": null,
   "id": "de9d3cce-2734-4072-82f2-9ee2713d6972",
   "metadata": {
    "tags": []
   },
   "outputs": [],
   "source": [
    "comb.hist('down_diff')"
   ]
  },
  {
   "cell_type": "markdown",
   "id": "42489ef9-715a-4819-bea4-c221e07c13c9",
   "metadata": {},
   "source": [
    "Do it again but with inner join"
   ]
  },
  {
   "cell_type": "code",
   "execution_count": null,
   "id": "faf26299-ef40-4b31-8ece-0e5b7e7a68d3",
   "metadata": {
    "tags": []
   },
   "outputs": [],
   "source": [
    "comb2.hist('down_diff')"
   ]
  },
  {
   "cell_type": "code",
   "execution_count": null,
   "id": "d33a13b5-cbf3-4fd4-8c53-4015c1f158a6",
   "metadata": {
    "tags": []
   },
   "outputs": [],
   "source": [
    "comb2.describe()"
   ]
  },
  {
   "cell_type": "code",
   "execution_count": null,
   "id": "609b1dfa-f084-4a50-8015-eacbfd9252f1",
   "metadata": {},
   "outputs": [],
   "source": []
  }
 ],
 "metadata": {
  "kernelspec": {
   "display_name": "Python 3 (ipykernel)",
   "language": "python",
   "name": "python3"
  },
  "language_info": {
   "codemirror_mode": {
    "name": "ipython",
    "version": 3
   },
   "file_extension": ".py",
   "mimetype": "text/x-python",
   "name": "python",
   "nbconvert_exporter": "python",
   "pygments_lexer": "ipython3",
   "version": "3.10.10"
  }
 },
 "nbformat": 4,
 "nbformat_minor": 5
}
