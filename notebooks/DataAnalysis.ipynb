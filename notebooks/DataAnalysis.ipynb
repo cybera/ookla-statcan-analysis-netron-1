{
 "cells": [
  {
   "cell_type": "code",
   "execution_count": 1,
   "metadata": {},
   "outputs": [],
   "source": [
    "# Import libraries\n",
    "import numpy as np\n",
    "import pandas as pd\n",
    "import matplotlib.pyplot as plt\n",
    "import seaborn as sns\n",
    "import geopandas as gp"
   ]
  },
  {
   "cell_type": "code",
   "execution_count": 2,
   "metadata": {},
   "outputs": [],
   "source": [
    "filePath = \"../data/processed/statistical_geometries/LastFourQuartersOrBestEstimate_On_DissolvedSmallerCitiesHexes.gpkg\"\n",
    "data = gp.read_file(filePath)"
   ]
  },
  {
   "cell_type": "code",
   "execution_count": 3,
   "metadata": {},
   "outputs": [
    {
     "data": {
      "text/html": [
       "<div>\n",
       "<style scoped>\n",
       "    .dataframe tbody tr th:only-of-type {\n",
       "        vertical-align: middle;\n",
       "    }\n",
       "\n",
       "    .dataframe tbody tr th {\n",
       "        vertical-align: top;\n",
       "    }\n",
       "\n",
       "    .dataframe thead th {\n",
       "        text-align: right;\n",
       "    }\n",
       "</style>\n",
       "<table border=\"1\" class=\"dataframe\">\n",
       "  <thead>\n",
       "    <tr style=\"text-align: right;\">\n",
       "      <th></th>\n",
       "      <th>PCPUID</th>\n",
       "      <th>HEXUID_PCPUID</th>\n",
       "      <th>PRCODE</th>\n",
       "      <th>PCNAME</th>\n",
       "      <th>PCCLASS</th>\n",
       "      <th>Pop2016</th>\n",
       "      <th>TDwell2016_TLog2016</th>\n",
       "      <th>URDwell2016_RH2016</th>\n",
       "      <th>PHH_Count</th>\n",
       "      <th>Common_Type</th>\n",
       "      <th>...</th>\n",
       "      <th>unique_devices</th>\n",
       "      <th>ave_devices_per_tile</th>\n",
       "      <th>num_tiles</th>\n",
       "      <th>Down_50_percentile</th>\n",
       "      <th>Up_10_percentile</th>\n",
       "      <th>ookla_50_10_percentile</th>\n",
       "      <th>min_year</th>\n",
       "      <th>max_year</th>\n",
       "      <th>connections</th>\n",
       "      <th>geometry</th>\n",
       "    </tr>\n",
       "  </thead>\n",
       "  <tbody>\n",
       "    <tr>\n",
       "      <th>0</th>\n",
       "      <td>100792</td>\n",
       "      <td>NL47580528-100792</td>\n",
       "      <td>NL</td>\n",
       "      <td>St. John's</td>\n",
       "      <td>4</td>\n",
       "      <td>9896.147562</td>\n",
       "      <td>5058.332094</td>\n",
       "      <td>4318.056742</td>\n",
       "      <td>685.0</td>\n",
       "      <td>3.0</td>\n",
       "      <td>...</td>\n",
       "      <td>1517.0</td>\n",
       "      <td>6.772321</td>\n",
       "      <td>224.0</td>\n",
       "      <td>89.732143</td>\n",
       "      <td>96.428571</td>\n",
       "      <td>89.732143</td>\n",
       "      <td>Q4 2021</td>\n",
       "      <td>Q3 2022</td>\n",
       "      <td>fixed</td>\n",
       "      <td>MULTIPOLYGON (((-52.78788 47.56551, -52.78288 ...</td>\n",
       "    </tr>\n",
       "    <tr>\n",
       "      <th>1</th>\n",
       "      <td>100792</td>\n",
       "      <td>NL47580529-100792</td>\n",
       "      <td>NL</td>\n",
       "      <td>St. John's</td>\n",
       "      <td>4</td>\n",
       "      <td>4252.819048</td>\n",
       "      <td>1648.265873</td>\n",
       "      <td>1558.259524</td>\n",
       "      <td>437.0</td>\n",
       "      <td>4.0</td>\n",
       "      <td>...</td>\n",
       "      <td>341.0</td>\n",
       "      <td>2.005882</td>\n",
       "      <td>170.0</td>\n",
       "      <td>91.764706</td>\n",
       "      <td>95.294118</td>\n",
       "      <td>91.764706</td>\n",
       "      <td>Q4 2021</td>\n",
       "      <td>Q3 2022</td>\n",
       "      <td>fixed</td>\n",
       "      <td>POLYGON ((-52.90996 47.56425, -52.90990 47.564...</td>\n",
       "    </tr>\n",
       "    <tr>\n",
       "      <th>2</th>\n",
       "      <td>100792</td>\n",
       "      <td>NL47430528-100792</td>\n",
       "      <td>NL</td>\n",
       "      <td>St. John's</td>\n",
       "      <td>4</td>\n",
       "      <td>2662.527342</td>\n",
       "      <td>1056.284918</td>\n",
       "      <td>1025.692964</td>\n",
       "      <td>149.0</td>\n",
       "      <td>3.0</td>\n",
       "      <td>...</td>\n",
       "      <td>90.0</td>\n",
       "      <td>3.333333</td>\n",
       "      <td>27.0</td>\n",
       "      <td>100.000000</td>\n",
       "      <td>100.000000</td>\n",
       "      <td>100.000000</td>\n",
       "      <td>Q4 2021</td>\n",
       "      <td>Q3 2022</td>\n",
       "      <td>fixed</td>\n",
       "      <td>POLYGON ((-52.76428 47.45587, -52.76436 47.454...</td>\n",
       "    </tr>\n",
       "    <tr>\n",
       "      <th>3</th>\n",
       "      <td>100792</td>\n",
       "      <td>NL47510528-100792</td>\n",
       "      <td>NL</td>\n",
       "      <td>St. John's</td>\n",
       "      <td>4</td>\n",
       "      <td>24029.650382</td>\n",
       "      <td>10449.110393</td>\n",
       "      <td>9692.839561</td>\n",
       "      <td>1684.0</td>\n",
       "      <td>3.0</td>\n",
       "      <td>...</td>\n",
       "      <td>1889.0</td>\n",
       "      <td>5.689759</td>\n",
       "      <td>332.0</td>\n",
       "      <td>93.373494</td>\n",
       "      <td>98.192771</td>\n",
       "      <td>93.373494</td>\n",
       "      <td>Q4 2021</td>\n",
       "      <td>Q3 2022</td>\n",
       "      <td>fixed</td>\n",
       "      <td>POLYGON ((-52.79738 47.49030, -52.79781 47.490...</td>\n",
       "    </tr>\n",
       "    <tr>\n",
       "      <th>4</th>\n",
       "      <td>100792</td>\n",
       "      <td>NL47510529-100792</td>\n",
       "      <td>NL</td>\n",
       "      <td>St. John's</td>\n",
       "      <td>4</td>\n",
       "      <td>9484.733870</td>\n",
       "      <td>3792.755213</td>\n",
       "      <td>3563.152336</td>\n",
       "      <td>909.0</td>\n",
       "      <td>4.0</td>\n",
       "      <td>...</td>\n",
       "      <td>762.0</td>\n",
       "      <td>2.964981</td>\n",
       "      <td>257.0</td>\n",
       "      <td>94.552529</td>\n",
       "      <td>98.054475</td>\n",
       "      <td>94.552529</td>\n",
       "      <td>Q4 2021</td>\n",
       "      <td>Q3 2022</td>\n",
       "      <td>fixed</td>\n",
       "      <td>POLYGON ((-52.91007 47.51346, -52.91014 47.513...</td>\n",
       "    </tr>\n",
       "  </tbody>\n",
       "</table>\n",
       "<p>5 rows × 43 columns</p>\n",
       "</div>"
      ],
      "text/plain": [
       "   PCPUID      HEXUID_PCPUID PRCODE      PCNAME PCCLASS       Pop2016   \n",
       "0  100792  NL47580528-100792     NL  St. John's       4   9896.147562  \\\n",
       "1  100792  NL47580529-100792     NL  St. John's       4   4252.819048   \n",
       "2  100792  NL47430528-100792     NL  St. John's       4   2662.527342   \n",
       "3  100792  NL47510528-100792     NL  St. John's       4  24029.650382   \n",
       "4  100792  NL47510529-100792     NL  St. John's       4   9484.733870   \n",
       "\n",
       "   TDwell2016_TLog2016  URDwell2016_RH2016  PHH_Count  Common_Type  ...   \n",
       "0          5058.332094         4318.056742      685.0          3.0  ...  \\\n",
       "1          1648.265873         1558.259524      437.0          4.0  ...   \n",
       "2          1056.284918         1025.692964      149.0          3.0  ...   \n",
       "3         10449.110393         9692.839561     1684.0          3.0  ...   \n",
       "4          3792.755213         3563.152336      909.0          4.0  ...   \n",
       "\n",
       "   unique_devices  ave_devices_per_tile  num_tiles  Down_50_percentile   \n",
       "0          1517.0              6.772321      224.0           89.732143  \\\n",
       "1           341.0              2.005882      170.0           91.764706   \n",
       "2            90.0              3.333333       27.0          100.000000   \n",
       "3          1889.0              5.689759      332.0           93.373494   \n",
       "4           762.0              2.964981      257.0           94.552529   \n",
       "\n",
       "   Up_10_percentile  ookla_50_10_percentile  min_year  max_year  connections   \n",
       "0         96.428571               89.732143   Q4 2021   Q3 2022        fixed  \\\n",
       "1         95.294118               91.764706   Q4 2021   Q3 2022        fixed   \n",
       "2        100.000000              100.000000   Q4 2021   Q3 2022        fixed   \n",
       "3         98.192771               93.373494   Q4 2021   Q3 2022        fixed   \n",
       "4         98.054475               94.552529   Q4 2021   Q3 2022        fixed   \n",
       "\n",
       "                                            geometry  \n",
       "0  MULTIPOLYGON (((-52.78788 47.56551, -52.78288 ...  \n",
       "1  POLYGON ((-52.90996 47.56425, -52.90990 47.564...  \n",
       "2  POLYGON ((-52.76428 47.45587, -52.76436 47.454...  \n",
       "3  POLYGON ((-52.79738 47.49030, -52.79781 47.490...  \n",
       "4  POLYGON ((-52.91007 47.51346, -52.91014 47.513...  \n",
       "\n",
       "[5 rows x 43 columns]"
      ]
     },
     "execution_count": 3,
     "metadata": {},
     "output_type": "execute_result"
    }
   ],
   "source": [
    "data.head()"
   ]
  },
  {
   "cell_type": "code",
   "execution_count": 4,
   "metadata": {},
   "outputs": [
    {
     "name": "stdout",
     "output_type": "stream",
     "text": [
      "<class 'geopandas.geodataframe.GeoDataFrame'>\n",
      "RangeIndex: 60275 entries, 0 to 60274\n",
      "Data columns (total 43 columns):\n",
      " #   Column                        Non-Null Count  Dtype   \n",
      "---  ------                        --------------  -----   \n",
      " 0   PCPUID                        1832 non-null   object  \n",
      " 1   HEXUID_PCPUID                 60275 non-null  object  \n",
      " 2   PRCODE                        60275 non-null  object  \n",
      " 3   PCNAME                        1832 non-null   object  \n",
      " 4   PCCLASS                       1832 non-null   object  \n",
      " 5   Pop2016                       60275 non-null  float64 \n",
      " 6   TDwell2016_TLog2016           60275 non-null  float64 \n",
      " 7   URDwell2016_RH2016            60275 non-null  float64 \n",
      " 8   PHH_Count                     54660 non-null  float64 \n",
      " 9   Common_Type                   54660 non-null  float64 \n",
      " 10  Pop2016_at_50_10_Combined     60275 non-null  float64 \n",
      " 11  TDwell2016_at_50_10_Combined  60275 non-null  float64 \n",
      " 12  URDwell_at_50_10_Combined     60275 non-null  float64 \n",
      " 13  Pop_Avail_50_10               52923 non-null  float64 \n",
      " 14  TDwell_Avail_50_10            53014 non-null  float64 \n",
      " 15  URDwell_Avail_50_10           52899 non-null  float64 \n",
      " 16  avg_d_kbps                    45889 non-null  float64 \n",
      " 17  std_d_kbps                    37946 non-null  float64 \n",
      " 18  min_d_kbps                    45889 non-null  float64 \n",
      " 19  P25_d_kbps                    45889 non-null  float64 \n",
      " 20  P50_d_kbps                    45889 non-null  float64 \n",
      " 21  P75_d_kbps                    45889 non-null  float64 \n",
      " 22  max_d_kbps                    45889 non-null  float64 \n",
      " 23  avg_u_kbps                    45889 non-null  float64 \n",
      " 24  std_u_kbps                    37946 non-null  float64 \n",
      " 25  min_u_kbps                    45889 non-null  float64 \n",
      " 26  P25_u_kbps                    45889 non-null  float64 \n",
      " 27  P50_u_kbps                    45889 non-null  float64 \n",
      " 28  P75_u_kbps                    45889 non-null  float64 \n",
      " 29  max_u_kbps                    45889 non-null  float64 \n",
      " 30  avg_lat_ms                    45889 non-null  float64 \n",
      " 31  tests                         45889 non-null  float64 \n",
      " 32  ave_tests_per_tile            45889 non-null  float64 \n",
      " 33  unique_devices                45889 non-null  float64 \n",
      " 34  ave_devices_per_tile          45889 non-null  float64 \n",
      " 35  num_tiles                     45889 non-null  float64 \n",
      " 36  Down_50_percentile            45889 non-null  float64 \n",
      " 37  Up_10_percentile              45889 non-null  float64 \n",
      " 38  ookla_50_10_percentile        45889 non-null  float64 \n",
      " 39  min_year                      60275 non-null  object  \n",
      " 40  max_year                      60275 non-null  object  \n",
      " 41  connections                   60275 non-null  object  \n",
      " 42  geometry                      60275 non-null  geometry\n",
      "dtypes: float64(34), geometry(1), object(8)\n",
      "memory usage: 19.8+ MB\n"
     ]
    }
   ],
   "source": [
    "data.info()"
   ]
  },
  {
   "cell_type": "code",
   "execution_count": 5,
   "metadata": {},
   "outputs": [
    {
     "name": "stdout",
     "output_type": "stream",
     "text": [
      "PCCLASS\n",
      "2    921\n",
      "4    853\n",
      "3     58\n",
      "Name: count, dtype: int64\n"
     ]
    },
    {
     "data": {
      "image/png": "[encoded data removed]",
      "text/plain": [
       "<Figure size 640x480 with 1 Axes>"
      ]
     },
     "metadata": {},
     "output_type": "display_data"
    }
   ],
   "source": [
    "sns.countplot(data=data, x=\"PCCLASS\").set(title=\"Population Centre Class\")\n",
    "print(data.PCCLASS.value_counts())"
   ]
  },
  {
   "cell_type": "code",
   "execution_count": 6,
   "metadata": {},
   "outputs": [
    {
     "data": {
      "text/plain": [
       "array(['4', '2', '3', nan], dtype=object)"
      ]
     },
     "execution_count": 6,
     "metadata": {},
     "output_type": "execute_result"
    }
   ],
   "source": [
    "data['PCCLASS'].unique()"
   ]
  },
  {
   "cell_type": "code",
   "execution_count": 7,
   "metadata": {},
   "outputs": [
    {
     "data": {
      "text/plain": [
       "Text(0.5, 1.0, 'Average Upload Speed Based on Population Centre Class')"
      ]
     },
     "execution_count": 7,
     "metadata": {},
     "output_type": "execute_result"
    },
    {
     "data": {
      "image/png": "[encoded data removed]",
      "text/plain": [
       "<Figure size 640x480 with 1 Axes>"
      ]
     },
     "metadata": {},
     "output_type": "display_data"
    }
   ],
   "source": [
    "#the average upload speed for each pclass\n",
    "avg_speed = data.groupby('PCCLASS')['avg_u_kbps'].mean().reset_index()\n",
    "sns.barplot(x='PCCLASS', y='avg_u_kbps', data=avg_speed)\n",
    "plt.title('Average Upload Speed Based on Population Centre Class')"
   ]
  },
  {
   "cell_type": "code",
   "execution_count": 8,
   "metadata": {},
   "outputs": [
    {
     "data": {
      "text/plain": [
       "58443"
      ]
     },
     "execution_count": 8,
     "metadata": {},
     "output_type": "execute_result"
    }
   ],
   "source": [
    "data['PCCLASS'].isna().sum()"
   ]
  },
  {
   "cell_type": "code",
   "execution_count": 9,
   "metadata": {},
   "outputs": [
    {
     "data": {
      "text/plain": [
       "0        False\n",
       "1        False\n",
       "2        False\n",
       "3        False\n",
       "4        False\n",
       "         ...  \n",
       "60270     True\n",
       "60271     True\n",
       "60272     True\n",
       "60273     True\n",
       "60274     True\n",
       "Name: PCCLASS, Length: 60275, dtype: bool"
      ]
     },
     "execution_count": 9,
     "metadata": {},
     "output_type": "execute_result"
    }
   ],
   "source": [
    "data['PCCLASS'].isna()"
   ]
  },
  {
   "cell_type": "code",
   "execution_count": 10,
   "metadata": {},
   "outputs": [
    {
     "data": {
      "text/plain": [
       "Text(0.5, 1.0, 'Average Upload Speed Based on Population Centre Class')"
      ]
     },
     "execution_count": 10,
     "metadata": {},
     "output_type": "execute_result"
    },
    {
     "data": {
      "image/png": "[encoded data removed]",
      "text/plain": [
       "<Figure size 640x480 with 1 Axes>"
      ]
     },
     "metadata": {},
     "output_type": "display_data"
    }
   ],
   "source": [
    "#the average upload speed for each pclass\n",
    "avg_speed = data.groupby('PCCLASS')['avg_u_kbps'].mean().reset_index()\n",
    "sns.barplot(x='PCCLASS', y='avg_u_kbps', data=avg_speed)\n",
    "plt.title('Average Upload Speed Based on Population Centre Class')"
   ]
  }
 ],
 "metadata": {
  "kernelspec": {
   "display_name": "ookla-statcan-test",
   "language": "python",
   "name": "python3"
  },
  "language_info": {
   "codemirror_mode": {
    "name": "ipython",
    "version": 3
   },
   "file_extension": ".py",
   "mimetype": "text/x-python",
   "name": "python",
   "nbconvert_exporter": "python",
   "pygments_lexer": "ipython3",
   "version": "3.10.10"
  },
  "orig_nbformat": 4
 },
 "nbformat": 4,
 "nbformat_minor": 2
}
