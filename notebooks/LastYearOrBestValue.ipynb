{
 "cells": [
  {
   "attachments": {},
   "cell_type": "markdown",
   "metadata": {},
   "source": [
    "# Summary\n",
    "Needs to be cleaned up!\n",
    "\n",
    "Generates a MapInfo File with hexagons and their stats.\n",
    "\n",
    "Uses the custom geometry which splits the hexagons along city borders\n",
    "and subsequently merges small and medium (PCCLASS 2,3) cities into single \n",
    "areas. (Which is a file output from elsewhere, technically could be computed\n",
    "here as well). \n",
    "\n",
    "It combines the above against tiles from the Ookla dataset. This \n",
    "is done by calculating the spatial join (GeoPandas sjoin()) on the \n",
    "default \"intersection\" predicate. This allows some tiles \n",
    "to contribute to multiple hexagons if they partially overlap more \n",
    "than one area.\n",
    "\n",
    "After computing tile/hexagon intersection, the most recent 4 quarters \n",
    "are selected for calculating speed statistics. For many (rural) areas\n",
    "there are no or few tiles from this; so an expanding \n",
    "selection is done to try and get better stats in these areas by \n",
    "verifying the sum of tests in the area are at least 10, \n",
    "adding first the remainder of the \"fixed\" data tiles for \n",
    "earlier quarter, then all tiles tiles (including mobile tiles)\n",
    "if that still does not give at least 10 tests. \n",
    "\n"
   ]
  },
  {
   "cell_type": "code",
   "execution_count": null,
   "metadata": {},
   "outputs": [],
   "source": [
    "import sys\n",
    "sys.path.append(\"..\")\n",
    "\n",
    "%load_ext autoreload\n",
    "%autoreload 1\n",
    "%aimport src.datasets.joins\n",
    "%aimport src.datasets.loading.statcan\n",
    "\n",
    "import numpy as np\n",
    "import pandas as pd\n",
    "import matplotlib.pyplot as plt \n",
    "from src.datasets.loading import statcan\n",
    "from src.datasets.loading import ookla\n",
    "from src.datasets import overlays\n",
    "\n",
    "import statsmodels as sm\n",
    "# import statsmodels.stats.weightstats\n",
    "from scipy.stats import lognorm\n",
    "\n",
    "import src.config\n",
    "from pathlib import Path\n",
    "import geopandas as gp\n",
    "import src.datasets.joins as joins\n",
    "\n",
    "import re"
   ]
  },
  {
   "cell_type": "code",
   "execution_count": null,
   "metadata": {},
   "outputs": [],
   "source": [
    "output_name = \"LastFourQuartersOrBestEstimate_On_DissolvedSmallerCitiesHexes\"\n",
    "output_dir = src.config.DATA_DIRECTORY / \"processed\" / \"statistical_geometries\"\n",
    "output_dir.mkdir(exist_ok=True)"
   ]
  },
  {
   "cell_type": "code",
   "execution_count": null,
   "metadata": {},
   "outputs": [],
   "source": [
    "CRS = 'EPSG:4326'"
   ]
  },
  {
   "cell_type": "code",
   "execution_count": null,
   "metadata": {},
   "outputs": [],
   "source": [
    "popctrs = statcan.boundary('population_centres')"
   ]
  },
  {
   "cell_type": "code",
   "execution_count": null,
   "metadata": {},
   "outputs": [],
   "source": [
    "derived_geometry = (Path(src.config.DATA_DIRECTORY) / 'processed' / 'geometries').resolve()\n",
    "\n",
    "speed_data = gp.read_file(derived_geometry / 'hexagons_w_dissolved_smaller_popctrs.geojson')#, driver='GeoJSON')\n",
    "#speed_data = speed_data.to_crs(CRS)\n",
    "# speed_data.crs = popctrs.crs #assign crs b/c geojson assumes GPS/epsg:4326\n",
    "speed_data = speed_data.dropna(subset=['HEXUID_PCPUID'])"
   ]
  },
  {
   "cell_type": "code",
   "execution_count": null,
   "metadata": {},
   "outputs": [],
   "source": [
    "speed_data.head(2)"
   ]
  },
  {
   "cell_type": "code",
   "execution_count": null,
   "metadata": {},
   "outputs": [],
   "source": [
    "tiles = ookla.canada_speed_tiles()#.loc[lambda s:(s.year==2022 ) & (s.conn_type=='fixed')]\n",
    "tiles = tiles.to_crs(CRS)"
   ]
  },
  {
   "cell_type": "code",
   "execution_count": null,
   "metadata": {},
   "outputs": [],
   "source": [
    "unique_tiles = tiles[['quadkey','geometry']].drop_duplicates()\n",
    "unique_tiles = unique_tiles.sjoin(speed_data[['HEXUID_PCPUID','geometry']].to_crs(tiles.crs))\n",
    "unique_tiles = unique_tiles.drop(['index_right'],axis=1)"
   ]
  },
  {
   "cell_type": "code",
   "execution_count": null,
   "metadata": {},
   "outputs": [],
   "source": [
    "tiles = tiles.merge(unique_tiles.drop(['geometry'],axis=1), on='quadkey')"
   ]
  },
  {
   "cell_type": "code",
   "execution_count": null,
   "metadata": {},
   "outputs": [],
   "source": [
    "tiles.head(2)"
   ]
  },
  {
   "cell_type": "markdown",
   "metadata": {},
   "source": [
    "# Questions:\n",
    "1. How many hex/areas are missing ookla tests/tiles from the last year (or X quarters)?\n",
    "2. Can we selectively go back to older tiles to fill in areas with no tests in last time period?\n",
    "3. Can we back fill older tiles/tests in areas with low test counts?"
   ]
  },
  {
   "cell_type": "code",
   "execution_count": null,
   "metadata": {},
   "outputs": [],
   "source": [
    "populated_areas = speed_data.loc[lambda s:s.Pop2016 > 0, 'HEXUID_PCPUID']\n",
    "populated_areas"
   ]
  },
  {
   "cell_type": "code",
   "execution_count": null,
   "metadata": {},
   "outputs": [],
   "source": [
    "areas = len(populated_areas)\n",
    "areas"
   ]
  },
  {
   "cell_type": "code",
   "execution_count": null,
   "metadata": {},
   "outputs": [],
   "source": [
    "areas_with_tiles = len(tiles.loc[lambda s:s.HEXUID_PCPUID.isin(populated_areas)].drop_duplicates(subset=['HEXUID_PCPUID']))\n",
    "areas_with_tiles "
   ]
  },
  {
   "cell_type": "code",
   "execution_count": null,
   "metadata": {},
   "outputs": [],
   "source": [
    "areas_with_tiles_2022 = len(tiles.loc[lambda s:s.HEXUID_PCPUID.isin(populated_areas)].loc[lambda s:s.year == 2022].drop_duplicates(subset=['HEXUID_PCPUID']))\n",
    "areas_with_tiles_2022"
   ]
  },
  {
   "cell_type": "code",
   "execution_count": null,
   "metadata": {},
   "outputs": [],
   "source": [
    "areas_with_tiles/len(populated_areas)"
   ]
  },
  {
   "cell_type": "code",
   "execution_count": null,
   "metadata": {},
   "outputs": [],
   "source": [
    "areas_with_tiles_2022/len(populated_areas)"
   ]
  },
  {
   "cell_type": "code",
   "execution_count": null,
   "metadata": {},
   "outputs": [],
   "source": [
    "tiles.loc[lambda s:s.HEXUID_PCPUID.isin(populated_areas)].sort_values(by=['conn_type']).sort_values(by=['year','quarter'], ascending=False).drop_duplicates(subset='HEXUID_PCPUID')[['year','quarter','conn_type']].value_counts(normalize=True)"
   ]
  },
  {
   "cell_type": "code",
   "execution_count": null,
   "metadata": {},
   "outputs": [],
   "source": [
    "# areas where last 4 quarters have at least 10 tests on fixed connections\n",
    "# take all quarters on fixed tiles with at least 10 tests on fixed connections\n",
    "# use all tiles"
   ]
  },
  {
   "cell_type": "code",
   "execution_count": null,
   "metadata": {},
   "outputs": [],
   "source": [
    "tests_in_last_4quarters = tiles.loc[lambda s:(s.year==2022) | ( (s.year==2021) & (s.quarter==4) )].loc[lambda s:s.conn_type=='fixed'].groupby('HEXUID_PCPUID')['tests'].sum()\n",
    "tests_in_last_4quarters"
   ]
  },
  {
   "cell_type": "code",
   "execution_count": null,
   "metadata": {},
   "outputs": [],
   "source": [
    "level_1_areas = tests_in_last_4quarters.index[tests_in_last_4quarters > 10].dropna()\n",
    "level_1_areas"
   ]
  },
  {
   "cell_type": "code",
   "execution_count": null,
   "metadata": {},
   "outputs": [],
   "source": [
    "fixed_tests_counts_nolevel1 = tiles.loc[lambda s:~s.HEXUID_PCPUID.isin(level_1_areas)].loc[lambda s:s.conn_type == 'fixed'].groupby('HEXUID_PCPUID')['tests'].sum()\n",
    "fixed_tests_counts_nolevel1"
   ]
  },
  {
   "cell_type": "code",
   "execution_count": null,
   "metadata": {},
   "outputs": [],
   "source": [
    "level_2_areas = fixed_tests_counts_nolevel1.index[fixed_tests_counts_nolevel1 > 10].dropna()\n",
    "level_2_areas"
   ]
  },
  {
   "cell_type": "code",
   "execution_count": null,
   "metadata": {},
   "outputs": [],
   "source": [
    "level_3_areas = tiles.drop_duplicates(subset='HEXUID_PCPUID').loc[lambda s:~s.HEXUID_PCPUID.isin(level_1_areas) & ~s.HEXUID_PCPUID.isin(level_2_areas)].HEXUID_PCPUID.dropna().values\n",
    "level_3_areas"
   ]
  },
  {
   "cell_type": "code",
   "execution_count": null,
   "metadata": {},
   "outputs": [],
   "source": [
    "l1_tiles = tiles.loc[lambda s:s.HEXUID_PCPUID.isin(level_1_areas)].loc[lambda s:(s.year==2022) | ( (s.year==2021) & (s.quarter==4) )].loc[lambda s:s.conn_type=='fixed']\n",
    "l2_tiles = tiles.loc[lambda s:s.HEXUID_PCPUID.isin(level_2_areas)].loc[lambda s:s.conn_type=='fixed']\n",
    "l3_tiles = tiles.loc[lambda s:s.HEXUID_PCPUID.isin(level_3_areas)]\n",
    "\n",
    "selected_tiles = pd.concat([l1_tiles, l2_tiles, l3_tiles]).drop_duplicates(subset=['quadkey','conn_type','year','quarter'])\n",
    "selected_tiles"
   ]
  },
  {
   "cell_type": "code",
   "execution_count": null,
   "metadata": {},
   "outputs": [],
   "source": [
    "speed_data = joins.add_simple_stats(speed_data, selected_tiles, 'HEXUID_PCPUID')"
   ]
  },
  {
   "cell_type": "code",
   "execution_count": null,
   "metadata": {},
   "outputs": [],
   "source": [
    "speed_data[pd.isna(speed_data.num_tiles)]"
   ]
  },
  {
   "cell_type": "code",
   "execution_count": null,
   "metadata": {},
   "outputs": [],
   "source": [
    "speed_data = joins.add_50_10_stats(speed_data, selected_tiles, 'HEXUID_PCPUID')"
   ]
  },
  {
   "cell_type": "code",
   "execution_count": null,
   "metadata": {},
   "outputs": [],
   "source": [
    "unused_columns = ['pc_area','hex_area','pc_frac', 'hex_frac']\n",
    "for col in unused_columns:\n",
    "    del speed_data[col]\n",
    "\n",
    "speed_data['ookla_50_10_percentile'] = speed_data.apply(lambda s:min(s['50_down_percentile'], s['10_up_percentile']), axis=1)"
   ]
  },
  {
   "cell_type": "code",
   "execution_count": null,
   "metadata": {},
   "outputs": [],
   "source": [
    "speed_data.columns"
   ]
  },
  {
   "cell_type": "code",
   "execution_count": null,
   "metadata": {},
   "outputs": [],
   "source": [
    "# speed_data = joins.add_tile_info(speed_data, selected_tiles.drop(\"HEXUID_PCPUID\", axis=1), \"HEXUID_PCPUID\")\n",
    "speed_data = joins.add_tile_info(speed_data, selected_tiles, \"HEXUID_PCPUID\")"
   ]
  },
  {
   "cell_type": "code",
   "execution_count": null,
   "metadata": {},
   "outputs": [],
   "source": [
    "speed_data.columns"
   ]
  },
  {
   "cell_type": "code",
   "execution_count": null,
   "metadata": {},
   "outputs": [],
   "source": [
    "def year_serializeable(tuple_or_na):\n",
    "    if pd.isna(tuple_or_na):\n",
    "        return \"No Data\"\n",
    "    return \"Q{1} {0}\".format(*tuple_or_na)\n",
    "\n",
    "def connections_serializeable(set_):\n",
    "    if set_ == {'fixed'}:\n",
    "        return 'fixed'\n",
    "    elif set_ == {'fixed','mobile'}:\n",
    "        return 'fixed and mobile'\n",
    "    elif set_ == {'mobile'}:\n",
    "        return 'mobile'\n",
    "    else:\n",
    "        return 'No Data'\n",
    "\n",
    "\n",
    "pat = '(\\d\\d)p_*'\n",
    "t = '25p_d_kbps'\n",
    "fix_bad_names = lambda x: re.sub(pat, lambda s:f'P{s.group(1)}_', x)"
   ]
  },
  {
   "cell_type": "code",
   "execution_count": null,
   "metadata": {},
   "outputs": [],
   "source": [
    "speed_data['min_year'] = speed_data['min_year'].apply(year_serializeable)\n",
    "speed_data['max_year'] = speed_data['max_year'].apply(year_serializeable)\n",
    "speed_data['connections'] = speed_data['connections'].apply(connections_serializeable)\n",
    "\n",
    "speed_data.rename(columns=fix_bad_names, inplace=True)\n",
    "speed_data.rename(columns={'50_down_percentile':'Down_50_percentile', '10_up_percentile':'Up_10_percentile'}, inplace=True)"
   ]
  },
  {
   "cell_type": "code",
   "execution_count": null,
   "metadata": {},
   "outputs": [],
   "source": [
    "speed_data.rename(columns=fix_bad_names, inplace=True)\n",
    "speed_data.rename(columns={'50_down_percentile':'Down_50_percentile', '10_up_percentile':'Up_10_percentile'}, inplace=True)"
   ]
  },
  {
   "cell_type": "code",
   "execution_count": null,
   "metadata": {},
   "outputs": [],
   "source": [
    "speed_data.crs"
   ]
  },
  {
   "cell_type": "code",
   "execution_count": null,
   "metadata": {},
   "outputs": [],
   "source": [
    "tiles.loc[lambda s:s.HEXUID_PCPUID == \"AB56801115\"].sort_values(by=[\"year\",\"quarter\"],ascending=False)"
   ]
  },
  {
   "cell_type": "code",
   "execution_count": null,
   "metadata": {},
   "outputs": [],
   "source": [
    "speed_data.loc[lambda s:s.PRCODE == \"AB\"].loc[lambda s:s.Pop2016>0].explore(\n",
    "    'ookla_50_10_percentile',scheme='equalinterval', k = 4, \n",
    "    tooltip=['HEXUID_PCPUID','PCNAME','Pop2016','Pop_Avail_50_10','ookla_50_10_percentile'],\n",
    "    popup=[\n",
    "        'HEXUID_PCPUID','PCNAME',\n",
    "        'min_d_kbps','avg_d_kbps','max_d_kbps',\n",
    "        'min_u_kbps','avg_u_kbps','max_u_kbps',\n",
    "        'Pop2016','tests','num_tiles','unique_devices', 'min_year','max_year','connections',\n",
    "        'Pop_Avail_50_10','ookla_50_10_percentile','Down_50_percentile','Up_10_percentile']\n",
    "    )"
   ]
  },
  {
   "cell_type": "code",
   "execution_count": null,
   "metadata": {},
   "outputs": [],
   "source": [
    "\"AB56801115\""
   ]
  },
  {
   "cell_type": "code",
   "execution_count": null,
   "metadata": {},
   "outputs": [],
   "source": [
    "speed_data.loc[lambda s:(s.Pop2016 > 0.0) | (s.tests > 0.0)].to_file(output_dir / output_name, driver=\"MapInfo File\")\n"
   ]
  },
  {
   "cell_type": "code",
   "execution_count": null,
   "metadata": {},
   "outputs": [],
   "source": [
    "speed_data.loc[lambda s:(s.Pop2016 > 0.0) | (s.tests > 0.0)].to_file(output_dir / (output_name+\".gpkg\"), driver=\"GPKG\")"
   ]
  },
  {
   "cell_type": "code",
   "execution_count": null,
   "metadata": {},
   "outputs": [],
   "source": [
    "speed_data.columns"
   ]
  },
  {
   "cell_type": "code",
   "execution_count": null,
   "metadata": {},
   "outputs": [],
   "source": [
    "output_dir / (output_name+\"gpkg\")"
   ]
  },
  {
   "cell_type": "code",
   "execution_count": null,
   "metadata": {},
   "outputs": [],
   "source": [
    "# reloaded_speed_data = gp.read_file(output_dir / output_name, driver=\"MapInfo File\") ## doesn't encode nans; converts to zeros T_T\n",
    "reloaded_speed_data = gp.read_file(output_dir / (output_name+\".gpkg\"), driver=\"GPKG\")"
   ]
  },
  {
   "cell_type": "code",
   "execution_count": null,
   "metadata": {},
   "outputs": [],
   "source": [
    "reloaded_speed_data.loc[lambda s:s.PCNAME=='Brooks']"
   ]
  },
  {
   "cell_type": "code",
   "execution_count": null,
   "metadata": {},
   "outputs": [],
   "source": [
    "reloaded_speed_data.loc[lambda s:s.Pop2016 >0.0].loc[lambda s:s.PRCODE==\"AB\"].explore(\n",
    "    'ookla_50_10_percentile',scheme='equalinterval', k = 4, \n",
    "    tooltip=['HEXUID_PCPUID','PCNAME','Pop2016','Pop_Avail_50_10','ookla_50_10_percentile'],\n",
    "    popup=[\n",
    "        'HEXUID_PCPUID','PCNAME',\n",
    "        'min_d_kbps','avg_d_kbps','max_d_kbps',\n",
    "        'min_u_kbps','avg_u_kbps','max_u_kbps',\n",
    "        'Pop2016','tests','num_tiles','unique_devices', 'min_year','max_year','connections',\n",
    "        'Pop_Avail_50_10','ookla_50_10_percentile','Down_50_percentile','Up_10_percentile']\n",
    "    )"
   ]
  },
  {
   "cell_type": "code",
   "execution_count": null,
   "metadata": {},
   "outputs": [],
   "source": [
    "speed_data.columns"
   ]
  },
  {
   "cell_type": "code",
   "execution_count": null,
   "metadata": {},
   "outputs": [],
   "source": [
    "speed_data.plot.scatter(x='avg_d_kbps',y='P50_d_kbps',alpha=0.2)"
   ]
  },
  {
   "cell_type": "code",
   "execution_count": null,
   "metadata": {},
   "outputs": [],
   "source": [
    "speed_data['avg_d_kbps'].plot.hist(bins=range(0,100000,1000))\n",
    "plt.gca().axvline(50000,color='k')"
   ]
  },
  {
   "cell_type": "code",
   "execution_count": null,
   "metadata": {},
   "outputs": [],
   "source": [
    "speed_data.loc[lambda s:~(s.PCCLASS == '4')]['P75_d_kbps'].plot.hist(bins=range(0,400000,5000), density=True, alpha=0.75)\n",
    "speed_data.loc[lambda s:(s.PCCLASS == '4')]['P75_d_kbps'].plot.hist(bins=range(0,400000,5000), density=True,alpha=0.75)\n",
    "plt.gca().axvline(50000,color='k')"
   ]
  },
  {
   "cell_type": "code",
   "execution_count": null,
   "metadata": {},
   "outputs": [],
   "source": [
    "speed_data.loc[lambda s:pd.isna(s.PCCLASS)]['P75_u_kbps'].plot.hist(bins=range(0,250000,5000), density=True, alpha=0.75)\n",
    "speed_data.loc[lambda s:~pd.isna(s.PCCLASS)]['P75_u_kbps'].plot.hist(bins=range(0,250000,5000), density=True, alpha=0.75)\n",
    "plt.gca().axvline(10000,color='k')"
   ]
  },
  {
   "cell_type": "code",
   "execution_count": null,
   "metadata": {},
   "outputs": [],
   "source": [
    "speed_data.loc[lambda s:pd.isna(s.PCPUID)]['P75_u_kbps'].plot.hist(bins=range(0,200000,5000))\n",
    "plt.gca().axvline(10000,color='k')"
   ]
  },
  {
   "cell_type": "code",
   "execution_count": null,
   "metadata": {},
   "outputs": [],
   "source": [
    "ax = speed_data.loc[lambda s:(s.Pop_Avail_50_10 > 0) & (s.ookla_50_10_percentile)].loc[lambda s:s.PCCLASS.isna()].plot.scatter(x='Pop_Avail_50_10', y='ookla_50_10_percentile', alpha=.1)\n",
    "ax.plot([0,100], [0,100], color='k', lw=2);"
   ]
  },
  {
   "cell_type": "code",
   "execution_count": null,
   "metadata": {},
   "outputs": [],
   "source": [
    "thing =speed_data.loc[lambda s:(s.Pop_Avail_50_10 > 0) & (s.ookla_50_10_percentile)]\n",
    "plt.hist2d(thing['Pop_Avail_50_10'], thing['ookla_50_10_percentile'], bins=20, range=[(0,100),(0,100)]);"
   ]
  },
  {
   "cell_type": "code",
   "execution_count": null,
   "metadata": {},
   "outputs": [],
   "source": [
    "speed_data.loc[lambda s:s.Pop_Avail_50_10>0].apply(lambda s:s.ookla_50_10_percentile/s.Pop_Avail_50_10 if s.Pop_Avail_50_10 > 0 else 0, axis=1).hist(bins=20, range=[0,2])"
   ]
  },
  {
   "cell_type": "code",
   "execution_count": null,
   "metadata": {},
   "outputs": [],
   "source": [
    "speed_data.loc[lambda s:s.Pop_Avail_50_10>0].apply(lambda s:s.ookla_50_10_percentile-s.Pop_Avail_50_10, axis=1).hist(bins=50)#, range=[0,2])\n"
   ]
  },
  {
   "cell_type": "code",
   "execution_count": null,
   "metadata": {},
   "outputs": [],
   "source": [
    "speed_data"
   ]
  },
  {
   "cell_type": "code",
   "execution_count": null,
   "metadata": {},
   "outputs": [],
   "source": [
    "speed_data.Pop2016.sum()"
   ]
  },
  {
   "cell_type": "code",
   "execution_count": null,
   "metadata": {},
   "outputs": [],
   "source": [
    "print(\"{:10,.0f} >50/10;\\n{:10,.0f} <50/10;\\n{:10,.0f} no data;\\n{:10,.0f} all pop\".format(\n",
    "*[\n",
    "    (speed_data['Pop2016']*speed_data['ookla_50_10_percentile']/100.0).sum(),\n",
    "    (speed_data['Pop2016']*(100-speed_data['ookla_50_10_percentile'])/100.0).sum(),\n",
    "    speed_data[speed_data['ookla_50_10_percentile'].isna()].Pop2016.sum(),\n",
    "    speed_data.Pop2016.sum()\n",
    "]\n",
    ")\n",
    ")"
   ]
  },
  {
   "cell_type": "code",
   "execution_count": null,
   "metadata": {},
   "outputs": [],
   "source": [
    "28_820_499/35_151_728*100"
   ]
  },
  {
   "cell_type": "code",
   "execution_count": null,
   "metadata": {},
   "outputs": [],
   "source": [
    "print(\"{:10,.0f} >50/10;\\n{:10,.0f} <50/10;\\n{:10,.0f} no data;\\n{:10,.0f} all pop\".format(\n",
    "*[\n",
    "    (rural_speed_data['Pop2016']*rural_speed_data['ookla_50_10_percentile']/100.0).sum(),\n",
    "    (rural_speed_data['Pop2016']*(100-rural_speed_data['ookla_50_10_percentile'])/100.0).sum(),\n",
    "    rural_speed_data[rural_speed_data['ookla_50_10_percentile'].isna()].Pop2016.sum(),\n",
    "    rural_speed_data.Pop2016.sum(),\n",
    "]\n",
    ")\n",
    ")"
   ]
  },
  {
   "cell_type": "code",
   "execution_count": null,
   "metadata": {},
   "outputs": [],
   "source": [
    "2_963_931/6_577_998*100"
   ]
  },
  {
   "cell_type": "code",
   "execution_count": null,
   "metadata": {},
   "outputs": [],
   "source": [
    "speed_data.columns"
   ]
  },
  {
   "cell_type": "code",
   "execution_count": null,
   "metadata": {},
   "outputs": [],
   "source": [
    "print(\"{:10,.0f} >50/10;\\n{:10,.0f} <50/10;\\n{:10,.0f} no data;\\n{:10,.0f} all pop\".format(\n",
    "*[\n",
    "    (speed_data['Pop2016']*speed_data['Pop_Avail_50_10']/100).sum(),\n",
    "    (speed_data['Pop2016']*(100-speed_data['Pop_Avail_50_10'])/100).sum(),\n",
    "    speed_data[speed_data['Pop_Avail_50_10'].isna()].Pop2016.sum(),\n",
    "    speed_data.Pop2016.sum()\n",
    "]\n",
    ")\n",
    ")"
   ]
  },
  {
   "cell_type": "code",
   "execution_count": null,
   "metadata": {},
   "outputs": [],
   "source": [
    "32458702/35151728*100"
   ]
  },
  {
   "cell_type": "code",
   "execution_count": null,
   "metadata": {},
   "outputs": [],
   "source": [
    "print(\"{:10,.0f} >50/10;\\n{:10,.0f} <50/10;\\n{:10,.0f} no data;\\n{:10,.0f} all pop\".format(\n",
    "*[\n",
    "    (rural_speed_data['Pop2016']*rural_speed_data['Pop_Avail_50_10']/100.0).sum(),\n",
    "    (rural_speed_data['Pop2016']*(100-rural_speed_data['Pop_Avail_50_10'])/100.0).sum(),\n",
    "    rural_speed_data[rural_speed_data['Pop_Avail_50_10'].isna()].Pop2016.sum(),\n",
    "    rural_speed_data.Pop2016.sum(),\n",
    "]\n",
    ")\n",
    ")"
   ]
  },
  {
   "cell_type": "code",
   "execution_count": null,
   "metadata": {},
   "outputs": [],
   "source": [
    "4_108_512/6_577_998*100"
   ]
  }
 ],
 "metadata": {
  "kernelspec": {
   "display_name": "Python 3.10.2 ('datascience')",
   "language": "python",
   "name": "python3"
  },
  "language_info": {
   "codemirror_mode": {
    "name": "ipython",
    "version": 3
   },
   "file_extension": ".py",
   "mimetype": "text/x-python",
   "name": "python",
   "nbconvert_exporter": "python",
   "pygments_lexer": "ipython3",
   "version": "3.10.2"
  },
  "orig_nbformat": 4,
  "vscode": {
   "interpreter": {
    "hash": "7baa5682b3ee41d95f3e6c53f6f101854543f295d881c00164f5d254f1692751"
   }
  }
 },
 "nbformat": 4,
 "nbformat_minor": 2
}
