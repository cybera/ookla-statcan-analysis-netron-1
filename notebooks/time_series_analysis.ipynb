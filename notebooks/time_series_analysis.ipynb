{
 "cells": [
  {
   "cell_type": "code",
   "execution_count": 5,
   "id": "02336f08-25c4-4032-80c4-19a0fc7624f0",
   "metadata": {},
   "outputs": [],
   "source": [
    "import pandas as pd\n",
    "import numpy as np\n",
    "import geopandas as gp\n",
    "import matplotlib.pyplot as plt \n",
    "import sys\n",
    "import csv\n",
    "sys.path.append(\"..\") # src exists in the parent directory\n",
    "import src.config\n",
    "output_name = \"LastFourQuartersOrBestEstimate_On_DissolvedSmallerCitiesHexes.gpkg\"\n",
    "output_dir = src.config.DATA_DIRECTORY / \"processed\" / \"statistical_geometries\""
   ]
  },
  {
   "cell_type": "code",
   "execution_count": 6,
   "id": "ffdf2544-f81c-49f8-899c-bbaf18ed1939",
   "metadata": {},
   "outputs": [],
   "source": [
    "def convert_kbps_to_mbps(table, copy=False):\n",
    "    if copy:\n",
    "        table = table.copy()\n",
    "    for col in table.columns:\n",
    "        if \"kbps\" not in col:\n",
    "            continue\n",
    "        table.loc[:, col] /= 1000\n",
    "        table.rename(columns={col: col.replace(\"kbps\", \"Mbps\")}, inplace=True)\n",
    "    return table"
   ]
  },
  {
   "cell_type": "code",
   "execution_count": 7,
   "id": "e13e60d6-fd19-439b-a9c1-e068e9e73314",
   "metadata": {},
   "outputs": [],
   "source": [
    "def load_speed_data():\n",
    "    print(\"Loading speed data...\")\n",
    "\n",
    "    speed_data = gp.read_file(output_dir / output_name, driver=\"GPKG\")\n",
    "\n",
    "    speed_data[\"Ookla_Pop_at_50_10\"] = (\n",
    "        speed_data[\"Pop2016\"] * speed_data[\"ookla_50_10_percentile\"] / 100\n",
    "    )\n",
    "\n",
    "    speed_data = convert_kbps_to_mbps(speed_data)\n",
    "\n",
    "    speed_data[\"is_rural\"] = ~speed_data.PCCLASS.isin([\"2\", \"3\", \"4\"])\n",
    "\n",
    "    # speed_data[\"PRUID\"] = speed_data[\"PRCODE\"].replace(PRCODE_MAP)\n",
    "    speed_data[\"PCCLASS\"] = speed_data[\"PCCLASS\"].fillna(\"\")\n",
    "    return speed_data"
   ]
  },
  {
   "cell_type": "code",
   "execution_count": 4,
   "id": "2ab7cd29-671c-42ef-bd19-bfaae4fc5b61",
   "metadata": {
    "tags": []
   },
   "outputs": [
    {
     "name": "stdout",
     "output_type": "stream",
     "text": [
      "Loading speed data...\n"
     ]
    },
    {
     "ename": "KeyboardInterrupt",
     "evalue": "",
     "output_type": "error",
     "traceback": [
      "\u001b[0;31m---------------------------------------------------------------------------\u001b[0m",
      "\u001b[0;31mKeyboardInterrupt\u001b[0m                         Traceback (most recent call last)",
      "Cell \u001b[0;32mIn[4], line 1\u001b[0m\n\u001b[0;32m----> 1\u001b[0m data \u001b[38;5;241m=\u001b[39m \u001b[43mload_speed_data\u001b[49m\u001b[43m(\u001b[49m\u001b[43m)\u001b[49m\n",
      "Cell \u001b[0;32mIn[3], line 4\u001b[0m, in \u001b[0;36mload_speed_data\u001b[0;34m()\u001b[0m\n\u001b[1;32m      1\u001b[0m \u001b[38;5;28;01mdef\u001b[39;00m \u001b[38;5;21mload_speed_data\u001b[39m():\n\u001b[1;32m      2\u001b[0m     \u001b[38;5;28mprint\u001b[39m(\u001b[38;5;124m\"\u001b[39m\u001b[38;5;124mLoading speed data...\u001b[39m\u001b[38;5;124m\"\u001b[39m)\n\u001b[0;32m----> 4\u001b[0m     speed_data \u001b[38;5;241m=\u001b[39m \u001b[43mgp\u001b[49m\u001b[38;5;241;43m.\u001b[39;49m\u001b[43mread_file\u001b[49m\u001b[43m(\u001b[49m\u001b[43moutput_dir\u001b[49m\u001b[43m \u001b[49m\u001b[38;5;241;43m/\u001b[39;49m\u001b[43m \u001b[49m\u001b[43moutput_name\u001b[49m\u001b[43m,\u001b[49m\u001b[43m \u001b[49m\u001b[43mdriver\u001b[49m\u001b[38;5;241;43m=\u001b[39;49m\u001b[38;5;124;43m\"\u001b[39;49m\u001b[38;5;124;43mGPKG\u001b[39;49m\u001b[38;5;124;43m\"\u001b[39;49m\u001b[43m)\u001b[49m\n\u001b[1;32m      6\u001b[0m     speed_data[\u001b[38;5;124m\"\u001b[39m\u001b[38;5;124mOokla_Pop_at_50_10\u001b[39m\u001b[38;5;124m\"\u001b[39m] \u001b[38;5;241m=\u001b[39m (\n\u001b[1;32m      7\u001b[0m         speed_data[\u001b[38;5;124m\"\u001b[39m\u001b[38;5;124mPop2016\u001b[39m\u001b[38;5;124m\"\u001b[39m] \u001b[38;5;241m*\u001b[39m speed_data[\u001b[38;5;124m\"\u001b[39m\u001b[38;5;124mookla_50_10_percentile\u001b[39m\u001b[38;5;124m\"\u001b[39m] \u001b[38;5;241m/\u001b[39m \u001b[38;5;241m100\u001b[39m\n\u001b[1;32m      8\u001b[0m     )\n\u001b[1;32m     10\u001b[0m     speed_data \u001b[38;5;241m=\u001b[39m convert_kbps_to_mbps(speed_data)\n",
      "File \u001b[0;32m/opt/conda/lib/python3.10/site-packages/geopandas/io/file.py:248\u001b[0m, in \u001b[0;36m_read_file\u001b[0;34m(filename, bbox, mask, rows, engine, **kwargs)\u001b[0m\n\u001b[1;32m    245\u001b[0m     \u001b[38;5;28;01melse\u001b[39;00m:\n\u001b[1;32m    246\u001b[0m         path_or_bytes \u001b[38;5;241m=\u001b[39m filename\n\u001b[0;32m--> 248\u001b[0m     \u001b[38;5;28;01mreturn\u001b[39;00m \u001b[43m_read_file_fiona\u001b[49m\u001b[43m(\u001b[49m\n\u001b[1;32m    249\u001b[0m \u001b[43m        \u001b[49m\u001b[43mpath_or_bytes\u001b[49m\u001b[43m,\u001b[49m\u001b[43m \u001b[49m\u001b[43mfrom_bytes\u001b[49m\u001b[43m,\u001b[49m\u001b[43m \u001b[49m\u001b[43mbbox\u001b[49m\u001b[38;5;241;43m=\u001b[39;49m\u001b[43mbbox\u001b[49m\u001b[43m,\u001b[49m\u001b[43m \u001b[49m\u001b[43mmask\u001b[49m\u001b[38;5;241;43m=\u001b[39;49m\u001b[43mmask\u001b[49m\u001b[43m,\u001b[49m\u001b[43m \u001b[49m\u001b[43mrows\u001b[49m\u001b[38;5;241;43m=\u001b[39;49m\u001b[43mrows\u001b[49m\u001b[43m,\u001b[49m\u001b[43m \u001b[49m\u001b[38;5;241;43m*\u001b[39;49m\u001b[38;5;241;43m*\u001b[39;49m\u001b[43mkwargs\u001b[49m\n\u001b[1;32m    250\u001b[0m \u001b[43m    \u001b[49m\u001b[43m)\u001b[49m\n\u001b[1;32m    252\u001b[0m \u001b[38;5;28;01melse\u001b[39;00m:\n\u001b[1;32m    253\u001b[0m     \u001b[38;5;28;01mraise\u001b[39;00m \u001b[38;5;167;01mValueError\u001b[39;00m(\u001b[38;5;124mf\u001b[39m\u001b[38;5;124m\"\u001b[39m\u001b[38;5;124munknown engine \u001b[39m\u001b[38;5;124m'\u001b[39m\u001b[38;5;132;01m{\u001b[39;00mengine\u001b[38;5;132;01m}\u001b[39;00m\u001b[38;5;124m'\u001b[39m\u001b[38;5;124m\"\u001b[39m)\n",
      "File \u001b[0;32m/opt/conda/lib/python3.10/site-packages/geopandas/io/file.py:346\u001b[0m, in \u001b[0;36m_read_file_fiona\u001b[0;34m(path_or_bytes, from_bytes, bbox, mask, rows, where, **kwargs)\u001b[0m\n\u001b[1;32m    342\u001b[0m     df \u001b[38;5;241m=\u001b[39m pd\u001b[38;5;241m.\u001b[39mDataFrame(\n\u001b[1;32m    343\u001b[0m         [record[\u001b[38;5;124m\"\u001b[39m\u001b[38;5;124mproperties\u001b[39m\u001b[38;5;124m\"\u001b[39m] \u001b[38;5;28;01mfor\u001b[39;00m record \u001b[38;5;129;01min\u001b[39;00m f_filt], columns\u001b[38;5;241m=\u001b[39mcolumns\n\u001b[1;32m    344\u001b[0m     )\n\u001b[1;32m    345\u001b[0m \u001b[38;5;28;01melse\u001b[39;00m:\n\u001b[0;32m--> 346\u001b[0m     df \u001b[38;5;241m=\u001b[39m \u001b[43mGeoDataFrame\u001b[49m\u001b[38;5;241;43m.\u001b[39;49m\u001b[43mfrom_features\u001b[49m\u001b[43m(\u001b[49m\n\u001b[1;32m    347\u001b[0m \u001b[43m        \u001b[49m\u001b[43mf_filt\u001b[49m\u001b[43m,\u001b[49m\u001b[43m \u001b[49m\u001b[43mcrs\u001b[49m\u001b[38;5;241;43m=\u001b[39;49m\u001b[43mcrs\u001b[49m\u001b[43m,\u001b[49m\u001b[43m \u001b[49m\u001b[43mcolumns\u001b[49m\u001b[38;5;241;43m=\u001b[39;49m\u001b[43mcolumns\u001b[49m\u001b[43m \u001b[49m\u001b[38;5;241;43m+\u001b[39;49m\u001b[43m \u001b[49m\u001b[43m[\u001b[49m\u001b[38;5;124;43m\"\u001b[39;49m\u001b[38;5;124;43mgeometry\u001b[39;49m\u001b[38;5;124;43m\"\u001b[39;49m\u001b[43m]\u001b[49m\n\u001b[1;32m    348\u001b[0m \u001b[43m    \u001b[49m\u001b[43m)\u001b[49m\n\u001b[1;32m    349\u001b[0m \u001b[38;5;28;01mfor\u001b[39;00m k \u001b[38;5;129;01min\u001b[39;00m datetime_fields:\n\u001b[1;32m    350\u001b[0m     as_dt \u001b[38;5;241m=\u001b[39m pd\u001b[38;5;241m.\u001b[39mto_datetime(df[k], errors\u001b[38;5;241m=\u001b[39m\u001b[38;5;124m\"\u001b[39m\u001b[38;5;124mignore\u001b[39m\u001b[38;5;124m\"\u001b[39m)\n",
      "File \u001b[0;32m/opt/conda/lib/python3.10/site-packages/geopandas/geodataframe.py:638\u001b[0m, in \u001b[0;36mGeoDataFrame.from_features\u001b[0;34m(cls, features, crs, columns)\u001b[0m\n\u001b[1;32m    635\u001b[0m \u001b[38;5;28;01mfor\u001b[39;00m feature \u001b[38;5;129;01min\u001b[39;00m features_lst:\n\u001b[1;32m    636\u001b[0m     \u001b[38;5;66;03m# load geometry\u001b[39;00m\n\u001b[1;32m    637\u001b[0m     \u001b[38;5;28;01mif\u001b[39;00m \u001b[38;5;28mhasattr\u001b[39m(feature, \u001b[38;5;124m\"\u001b[39m\u001b[38;5;124m__geo_interface__\u001b[39m\u001b[38;5;124m\"\u001b[39m):\n\u001b[0;32m--> 638\u001b[0m         feature \u001b[38;5;241m=\u001b[39m \u001b[43mfeature\u001b[49m\u001b[38;5;241;43m.\u001b[39;49m\u001b[43m__geo_interface__\u001b[49m\n\u001b[1;32m    639\u001b[0m     row \u001b[38;5;241m=\u001b[39m {\n\u001b[1;32m    640\u001b[0m         \u001b[38;5;124m\"\u001b[39m\u001b[38;5;124mgeometry\u001b[39m\u001b[38;5;124m\"\u001b[39m: shape(feature[\u001b[38;5;124m\"\u001b[39m\u001b[38;5;124mgeometry\u001b[39m\u001b[38;5;124m\"\u001b[39m]) \u001b[38;5;28;01mif\u001b[39;00m feature[\u001b[38;5;124m\"\u001b[39m\u001b[38;5;124mgeometry\u001b[39m\u001b[38;5;124m\"\u001b[39m] \u001b[38;5;28;01melse\u001b[39;00m \u001b[38;5;28;01mNone\u001b[39;00m\n\u001b[1;32m    641\u001b[0m     }\n\u001b[1;32m    642\u001b[0m     \u001b[38;5;66;03m# load properties\u001b[39;00m\n",
      "File \u001b[0;32m/opt/conda/lib/python3.10/site-packages/fiona/model.py:354\u001b[0m, in \u001b[0;36mFeature.__geo_interface__\u001b[0;34m(self)\u001b[0m\n\u001b[1;32m    352\u001b[0m \u001b[38;5;129m@property\u001b[39m\n\u001b[1;32m    353\u001b[0m \u001b[38;5;28;01mdef\u001b[39;00m \u001b[38;5;21m__geo_interface__\u001b[39m(\u001b[38;5;28mself\u001b[39m):\n\u001b[0;32m--> 354\u001b[0m     \u001b[38;5;28;01mreturn\u001b[39;00m \u001b[43mObjectEncoder\u001b[49m\u001b[43m(\u001b[49m\u001b[43m)\u001b[49m\u001b[38;5;241;43m.\u001b[39;49m\u001b[43mdefault\u001b[49m\u001b[43m(\u001b[49m\u001b[38;5;28;43mself\u001b[39;49m\u001b[43m)\u001b[49m\n",
      "File \u001b[0;32m/opt/conda/lib/python3.10/site-packages/fiona/model.py:381\u001b[0m, in \u001b[0;36mObjectEncoder.default\u001b[0;34m(self, o)\u001b[0m\n\u001b[1;32m    379\u001b[0m         o_dict[\u001b[38;5;124m\"\u001b[39m\u001b[38;5;124mgeometry\u001b[39m\u001b[38;5;124m\"\u001b[39m] \u001b[38;5;241m=\u001b[39m ObjectEncoder()\u001b[38;5;241m.\u001b[39mdefault(o\u001b[38;5;241m.\u001b[39mgeometry)\n\u001b[1;32m    380\u001b[0m     \u001b[38;5;28;01mif\u001b[39;00m o\u001b[38;5;241m.\u001b[39mproperties \u001b[38;5;129;01mis\u001b[39;00m \u001b[38;5;129;01mnot\u001b[39;00m \u001b[38;5;28;01mNone\u001b[39;00m:\n\u001b[0;32m--> 381\u001b[0m         o_dict[\u001b[38;5;124m\"\u001b[39m\u001b[38;5;124mproperties\u001b[39m\u001b[38;5;124m\"\u001b[39m] \u001b[38;5;241m=\u001b[39m \u001b[43mObjectEncoder\u001b[49m\u001b[43m(\u001b[49m\u001b[43m)\u001b[49m\u001b[38;5;241;43m.\u001b[39;49m\u001b[43mdefault\u001b[49m\u001b[43m(\u001b[49m\u001b[43mo\u001b[49m\u001b[38;5;241;43m.\u001b[39;49m\u001b[43mproperties\u001b[49m\u001b[43m)\u001b[49m\n\u001b[1;32m    382\u001b[0m     \u001b[38;5;28;01mreturn\u001b[39;00m o_dict\n\u001b[1;32m    383\u001b[0m \u001b[38;5;28;01melse\u001b[39;00m:\n",
      "File \u001b[0;32m/opt/conda/lib/python3.10/site-packages/fiona/model.py:374\u001b[0m, in \u001b[0;36mObjectEncoder.default\u001b[0;34m(self, o)\u001b[0m\n\u001b[1;32m    372\u001b[0m \u001b[38;5;28;01mdef\u001b[39;00m \u001b[38;5;21mdefault\u001b[39m(\u001b[38;5;28mself\u001b[39m, o):\n\u001b[1;32m    373\u001b[0m     \u001b[38;5;28;01mif\u001b[39;00m \u001b[38;5;28misinstance\u001b[39m(o, (Geometry, Properties)):\n\u001b[0;32m--> 374\u001b[0m         \u001b[38;5;28;01mreturn\u001b[39;00m {k: v \u001b[38;5;28;01mfor\u001b[39;00m k, v \u001b[38;5;129;01min\u001b[39;00m o\u001b[38;5;241m.\u001b[39mitems() \u001b[38;5;28;01mif\u001b[39;00m v \u001b[38;5;129;01mis\u001b[39;00m \u001b[38;5;129;01mnot\u001b[39;00m \u001b[38;5;28;01mNone\u001b[39;00m}\n\u001b[1;32m    375\u001b[0m     \u001b[38;5;28;01melif\u001b[39;00m \u001b[38;5;28misinstance\u001b[39m(o, Feature):\n\u001b[1;32m    376\u001b[0m         o_dict \u001b[38;5;241m=\u001b[39m \u001b[38;5;28mdict\u001b[39m(\u001b[38;5;241m*\u001b[39m\u001b[38;5;241m*\u001b[39mo)\n",
      "File \u001b[0;32m/opt/conda/lib/python3.10/site-packages/fiona/model.py:374\u001b[0m, in \u001b[0;36m<dictcomp>\u001b[0;34m(.0)\u001b[0m\n\u001b[1;32m    372\u001b[0m \u001b[38;5;28;01mdef\u001b[39;00m \u001b[38;5;21mdefault\u001b[39m(\u001b[38;5;28mself\u001b[39m, o):\n\u001b[1;32m    373\u001b[0m     \u001b[38;5;28;01mif\u001b[39;00m \u001b[38;5;28misinstance\u001b[39m(o, (Geometry, Properties)):\n\u001b[0;32m--> 374\u001b[0m         \u001b[38;5;28;01mreturn\u001b[39;00m {k: v \u001b[38;5;28;01mfor\u001b[39;00m k, v \u001b[38;5;129;01min\u001b[39;00m o\u001b[38;5;241m.\u001b[39mitems() \u001b[38;5;28;01mif\u001b[39;00m v \u001b[38;5;129;01mis\u001b[39;00m \u001b[38;5;129;01mnot\u001b[39;00m \u001b[38;5;28;01mNone\u001b[39;00m}\n\u001b[1;32m    375\u001b[0m     \u001b[38;5;28;01melif\u001b[39;00m \u001b[38;5;28misinstance\u001b[39m(o, Feature):\n\u001b[1;32m    376\u001b[0m         o_dict \u001b[38;5;241m=\u001b[39m \u001b[38;5;28mdict\u001b[39m(\u001b[38;5;241m*\u001b[39m\u001b[38;5;241m*\u001b[39mo)\n",
      "File \u001b[0;32m/opt/conda/lib/python3.10/_collections_abc.py:911\u001b[0m, in \u001b[0;36mItemsView.__iter__\u001b[0;34m(self)\u001b[0m\n\u001b[1;32m    909\u001b[0m \u001b[38;5;28;01mdef\u001b[39;00m \u001b[38;5;21m__iter__\u001b[39m(\u001b[38;5;28mself\u001b[39m):\n\u001b[1;32m    910\u001b[0m     \u001b[38;5;28;01mfor\u001b[39;00m key \u001b[38;5;129;01min\u001b[39;00m \u001b[38;5;28mself\u001b[39m\u001b[38;5;241m.\u001b[39m_mapping:\n\u001b[0;32m--> 911\u001b[0m         \u001b[38;5;28;01myield\u001b[39;00m (key, \u001b[38;5;28;43mself\u001b[39;49m\u001b[38;5;241;43m.\u001b[39;49m\u001b[43m_mapping\u001b[49m\u001b[43m[\u001b[49m\u001b[43mkey\u001b[49m\u001b[43m]\u001b[49m)\n",
      "File \u001b[0;32m/opt/conda/lib/python3.10/site-packages/fiona/model.py:134\u001b[0m, in \u001b[0;36mObject.__getitem__\u001b[0;34m(self, item)\u001b[0m\n\u001b[1;32m    132\u001b[0m \u001b[38;5;28;01mdef\u001b[39;00m \u001b[38;5;21m__getitem__\u001b[39m(\u001b[38;5;28mself\u001b[39m, item):\n\u001b[1;32m    133\u001b[0m     props \u001b[38;5;241m=\u001b[39m \u001b[38;5;28mself\u001b[39m\u001b[38;5;241m.\u001b[39m_props()\n\u001b[0;32m--> 134\u001b[0m     \u001b[43mprops\u001b[49m\u001b[38;5;241;43m.\u001b[39;49m\u001b[43mupdate\u001b[49m\u001b[43m(\u001b[49m\u001b[38;5;241;43m*\u001b[39;49m\u001b[38;5;241;43m*\u001b[39;49m\u001b[38;5;28;43mself\u001b[39;49m\u001b[38;5;241;43m.\u001b[39;49m\u001b[43m_data\u001b[49m\u001b[43m)\u001b[49m\n\u001b[1;32m    135\u001b[0m     \u001b[38;5;28;01mreturn\u001b[39;00m props[item]\n",
      "\u001b[0;31mKeyboardInterrupt\u001b[0m: "
     ]
    }
   ],
   "source": [
    "# data = load_speed_data()"
   ]
  },
  {
   "cell_type": "code",
   "execution_count": null,
   "id": "48623cc1-5b8b-4a7a-9c10-84f45bb21508",
   "metadata": {
    "tags": []
   },
   "outputs": [],
   "source": [
    "data.columns"
   ]
  },
  {
   "cell_type": "code",
   "execution_count": null,
   "id": "59b4b253-75ed-4b12-8384-e6cfe49347e7",
   "metadata": {
    "tags": []
   },
   "outputs": [],
   "source": [
    "data[data['min_year'] == \"Q1 2019\"].plot.line(x=\"PRCODE\", y=\"avg_d_Mbps\")\n",
    "labels = data['PRCODE'].sort_values().unique()\n",
    "fig = plt.subplots()\n",
    "ax = plt.gca()\n",
    "ax.set_xticklabels(labels)\n",
    "# fig = plt.figure(figsize=(100, 100), dpi=80)\n",
    "for year in [\"2019\",\"2020\",\"2021\",\"2022\",\"2023\"]:\n",
    "    for quarter in [\"Q1\"]:\n",
    "        plot_data = data[data['min_year'] == str(quarter + ' ' + year)]\n",
    "        plot_data1 = plot_data[['PRCODE','avg_d_Mbps']].groupby(['PRCODE']).mean()\n",
    "        # print(plot_data1)\n",
    "        plt.scatter(plot_data1.index.tolist(), plot_data1['avg_d_Mbps'], label = str(quarter + ' ' + year))\n",
    "plt.axhline(y=50)        \n",
    "plt.legend()\n",
    "plt.show()"
   ]
  },
  {
   "cell_type": "code",
   "execution_count": null,
   "id": "2a95b974-b5c1-4159-b809-bbb8017768b3",
   "metadata": {},
   "outputs": [],
   "source": [
    "# x = time y = spped points = provinces"
   ]
  },
  {
   "cell_type": "code",
   "execution_count": null,
   "id": "2c123b6e-a57f-4b74-a402-a221c612160f",
   "metadata": {
    "tags": []
   },
   "outputs": [],
   "source": [
    "data[data['min_year'] == \"Q1 2019\"].plot.line(x=\"PRCODE\", y=\"avg_d_Mbps\")\n",
    "labels = data['PRCODE'].sort_values().unique()\n",
    "fig2 = plt.subplots(figsize=(15, 15))\n",
    "# fig = plt.figure(figsize=(100, 100), dpi=80)\n",
    "# for year in [\"2019\",\"2020\",\"2021\",\"2022\",\"2023\"]:\n",
    "#     for quarter in [\"Q1\",\"Q2\",\"Q3\",\"Q4\"]:\n",
    "#         plot_data = data[data['min_year'] == str(quarter + ' ' + year)]\n",
    "#         plot_data1 = plot_data[['PRCODE','avg_d_Mbps']].groupby(['PRCODE']).mean()\n",
    "#         # print(plot_data1)\n",
    "#         plt.scatter(plot_data1.index.tolist(), plot_data1['avg_d_Mbps'], label = str(quarter + ' ' + year))\n",
    "\n",
    "for province in labels:\n",
    "    plot_data = data[data['PRCODE'] == province]\n",
    "    plot_data = plot_data[plot_data[]]\n",
    "    plot_data1 = plot_data[['min_year', 'min_u_Mbps']].groupby(['min_year']).mean()\n",
    "    print(plot_data1.index)\n",
    "    plt.plot(plot_data1.index.tolist(), plot_data1['min_u_Mbps'], label = province)\n",
    "plt.axhline(y=10)        \n",
    "plt.legend()\n",
    "plt.show()"
   ]
  },
  {
   "cell_type": "code",
   "execution_count": 22,
   "id": "c48a85c0-7717-42d1-9d24-012262976b62",
   "metadata": {
    "tags": []
   },
   "outputs": [],
   "source": [
    "dict_19 = pd.read_csv('2019-2020.csv', low_memory=False)\n",
    "dict_20 = pd.read_csv('2020-2021.csv', low_memory=False)\n",
    "dict_21 = pd.read_csv('2021-2022.csv', low_memory=False)\n",
    "dict_22 = pd.read_csv('2022-2023.csv', low_memory=False)\n",
    "dict_23 = pd.read_csv('2023.csv', low_memory=False)"
   ]
  },
  {
   "cell_type": "code",
   "execution_count": null,
   "id": "4c73ec7e-d5c9-449f-a8e0-2059b7e98bb8",
   "metadata": {},
   "outputs": [],
   "source": [
    "for x in dict_20:\n",
    "    dict_20['prev_year_d_speed'] = dict_19[dict_19 == dict_20]['avg_d_kbps']\n",
    "    "
   ]
  },
  {
   "cell_type": "code",
   "execution_count": 23,
   "id": "e688ac62-68eb-43bf-aaa6-cbcebacb65cb",
   "metadata": {
    "tags": []
   },
   "outputs": [],
   "source": [
    "dict_19 = dict_19.drop(['geometry','tests','devices','DAUID','PRUID','CDUID','CCSUID','CCSNAME','CSDUID','ERUID','SACCODE','CMAUID','CMAPUID','CMANAME','CMATYPE','CTUID','CTNAME','ADAUID','PCUID','PCPUID'], axis = 1)\n",
    "for d in [dict_20,dict_21,dict_22,dict_23]:\n",
    "    d = d.drop(['geometry','tests','devices','DAUID','PRUID','CDUID','CCSUID','CCSNAME','CSDUID','ERUID','SACCODE','CMAUID','CMAPUID','CMANAME','CMATYPE','CTUID','CTNAME','ADAUID','PCUID','PCPUID'], axis = 1)\n",
    "    dict_19 = pd.concat([dict_19, d], axis = 0)\n",
    "dict_19.to_csv('Final.csv', index = False)"
   ]
  },
  {
   "cell_type": "code",
   "execution_count": 24,
   "id": "34a28b54-ae3e-4e60-9bf6-0681f4292906",
   "metadata": {
    "tags": []
   },
   "outputs": [
    {
     "name": "stdout",
     "output_type": "stream",
     "text": [
      "        Unnamed: 0          quadkey     avg_d_kbps    avg_u_kbps         year   \n",
      "0            35230  302231302213222   85630.042857  14425.571429  [2019 2020]  \\\n",
      "1            18541  302231302213223  144320.615385  74120.692308  [2019 2020]   \n",
      "2            75590  302231302230013  106212.166667  76710.666667       [2019]   \n",
      "3           279031  302231302230022    6012.000000    658.000000  [2019 2020]   \n",
      "4            41645  302231302230023   13720.467949   1689.833333  [2019 2020]   \n",
      "...            ...              ...            ...           ...          ...   \n",
      "156880      134497  303303002013232    1665.000000    416.000000       [2023]   \n",
      "156881      136344  303303002021102   23449.000000   1456.000000       [2023]   \n",
      "156882       90540  303303002021103   21074.000000   1924.000000       [2023]   \n",
      "156883      149015  303303002122001   58498.000000  11313.000000       [2023]   \n",
      "156884      155772  303303002122002    3039.000000   2746.000000       [2023]   \n",
      "\n",
      "                                                   PRNAME           CDNAME   \n",
      "0                                                 Ontario           Halton  \\\n",
      "1                                                 Ontario           Halton   \n",
      "2                                                 Ontario           Halton   \n",
      "3                                                 Ontario           Halton   \n",
      "4                                                 Ontario           Halton   \n",
      "...                                                   ...              ...   \n",
      "156880  Newfoundland and Labrador / Terre-Neuve-et-Lab...  Division No.  1   \n",
      "156881  Newfoundland and Labrador / Terre-Neuve-et-Lab...  Division No.  1   \n",
      "156882  Newfoundland and Labrador / Terre-Neuve-et-Lab...  Division No.  1   \n",
      "156883  Newfoundland and Labrador / Terre-Neuve-et-Lab...  Division No.  1   \n",
      "156884  Newfoundland and Labrador / Terre-Neuve-et-Lab...  Division No.  1   \n",
      "\n",
      "       CDTYPE                   CSDNAME CSDTYPE  ... SACTYPE      das_area   \n",
      "0          RM              Halton Hills       T  ...       1  4.489387e+06  \\\n",
      "1          RM              Halton Hills       T  ...       1  2.309252e+07   \n",
      "2          RM              Halton Hills       T  ...       1  5.391016e+06   \n",
      "3          RM              Halton Hills       T  ...       1  1.030375e+07   \n",
      "4          RM              Halton Hills       T  ...       1  1.765704e+06   \n",
      "...       ...                       ...     ...  ...     ...           ...   \n",
      "156880    CDR  Division No.  1, Subd. V     SNO  ...       7  9.644073e+08   \n",
      "156881    CDR                 Trepassey       T  ...       5  1.777728e+07   \n",
      "156882    CDR                 Trepassey       T  ...       5  1.777728e+07   \n",
      "156883    CDR       Portugal Cove South       T  ...       7  1.194131e+06   \n",
      "156884    CDR       Portugal Cove South       T  ...       7  1.194131e+06   \n",
      "\n",
      "            tile_area  tile_frac  das_frac  DAPOP  POP_DENSITY  PCNAME PCTYPE   \n",
      "0       205331.876525   0.917314  0.041955   1420   316.301553   Acton    2.0  \\\n",
      "1       205331.876525   0.475620  0.004229    470    20.352909   Acton    2.0   \n",
      "2       205402.379648   0.894827  0.034094   1030   191.058601   Acton    2.0   \n",
      "3       205472.906899   0.611219  0.012189    505    49.011263   Acton    2.0   \n",
      "4       205472.906900   0.871430  0.101407    795   450.245236   Acton    2.0   \n",
      "...               ...        ...       ...    ...          ...     ...    ...   \n",
      "156880  178979.551319   0.826442  0.000153      0     0.000000     NaN    NaN   \n",
      "156881  179041.037306   0.537057  0.005409    350    19.688054     NaN    NaN   \n",
      "156882  179041.037305   0.652618  0.006573    350    19.688054     NaN    NaN   \n",
      "156883  179256.404038   1.000000  0.150114    150   125.614323     NaN    NaN   \n",
      "156884  179287.191779   0.514279  0.077214    150   125.614323     NaN    NaN   \n",
      "\n",
      "        PCCLASS  \n",
      "0           2.0  \n",
      "1           2.0  \n",
      "2           2.0  \n",
      "3           2.0  \n",
      "4           2.0  \n",
      "...         ...  \n",
      "156880      NaN  \n",
      "156881      NaN  \n",
      "156882      NaN  \n",
      "156883      NaN  \n",
      "156884      NaN  \n",
      "\n",
      "[1481845 rows x 21 columns]\n"
     ]
    }
   ],
   "source": [
    "print(dict_19)\n",
    "for id, chunk in enumerate(np.array_split(dict_19, 6)):\n",
    "    chunk.to_csv(f'../csv_split_yearly/bs_{id}.csv'.format(id=id))"
   ]
  },
  {
   "cell_type": "code",
   "execution_count": null,
   "id": "8741bfb2-200a-4625-b498-36b17117c550",
   "metadata": {
    "tags": []
   },
   "outputs": [],
   "source": [
    "print(dict_19.index.tolist())\n",
    "\n",
    "x1 = dict_19[['PRNAME','avg_d_kbps','year']].groupby(['PRNAME','year']).mean()\n",
    "x2 = dict_20[['PRNAME','avg_d_kbps','year']].groupby(['PRNAME','year']).mean()\n",
    "x3 = dict_21[['PRNAME','avg_d_kbps','year']].groupby(['PRNAME','year']).mean()\n",
    "x4 = dict_22[['PRNAME','avg_d_kbps','year']].groupby(['PRNAME','year']).mean()\n",
    "x5 = dict_23[['PRNAME','avg_d_kbps','year']].groupby(['PRNAME','year']).mean()\n",
    "for x in [x1,x2,x3,x4,x5]:\n",
    "    x['avg_d_kbps'] = x['avg_d_kbps']/1024\n",
    "    print(len(x.index.tolist()))\n",
    "print(x1)"
   ]
  },
  {
   "cell_type": "code",
   "execution_count": null,
   "id": "4e88dcda-76ec-47f4-b2c0-50a9b1f05f8e",
   "metadata": {
    "tags": []
   },
   "outputs": [],
   "source": [
    "fig = plt.subplots(figsize=(15, 15))\n",
    "ax = plt.gca()\n",
    "# fig = plt.figure(figsize=(100, 100), dpi=80)\n",
    "for i in range(len(labels)):\n",
    "    \n",
    "    plt.plot([\"2019\",\"2020\",\"2021\",\"2022\",\"2023\"], [x1['avg_d_kbps'][i],x2['avg_d_kbps'][i],x3['avg_d_kbps'][i],x4['avg_d_kbps'][i],x5['avg_d_kbps'][i]], label = labels[i])\n",
    "\n",
    "plt.axhline(y=50)        \n",
    "plt.legend()\n",
    "plt.show()"
   ]
  },
  {
   "cell_type": "code",
   "execution_count": null,
   "id": "03d0d670-9a94-402c-907e-d661fd6b4c38",
   "metadata": {
    "tags": []
   },
   "outputs": [],
   "source": [
    "x1 = dict_19[['PRNAME','avg_u_kbps','year']].groupby(['PRNAME','year']).mean()\n",
    "x2 = dict_20[['PRNAME','avg_u_kbps','year']].groupby(['PRNAME','year']).mean()\n",
    "x3 = dict_21[['PRNAME','avg_u_kbps','year']].groupby(['PRNAME','year']).mean()\n",
    "x4 = dict_22[['PRNAME','avg_u_kbps','year']].groupby(['PRNAME','year']).mean()\n",
    "x5 = dict_23[['PRNAME','avg_u_kbps','year']].groupby(['PRNAME','year']).mean()\n",
    "\n",
    "print(dict_19[['PRNAME','avg_u_kbps','year']].groupby(['PRNAME','year']).agg(np.std, ddof=0))\n",
    "\n",
    "for x in [x1,x2,x3,x4,x5]:\n",
    "    x['avg_u_kbps'] = x['avg_u_kbps']/1024\n",
    "print(x1)\n",
    "\n",
    "fig = plt.subplots(figsize=(15, 15))\n",
    "ax = plt.gca()\n",
    "# fig = plt.figure(figsize=(100, 100), dpi=80)\n",
    "for i in range(len(labels)):\n",
    "        plt.plot([\"2019\",\"2020\",\"2021\",\"2022\",\"2023\"], [x1['avg_u_kbps'][i],x2['avg_u_kbps'][i],x3['avg_u_kbps'][i],x4['avg_u_kbps'][i],x5['avg_u_kbps'][i]], label = labels[i])\n",
    "\n",
    "plt.axhline(y=50)        \n",
    "plt.legend()\n",
    "plt.show()"
   ]
  },
  {
   "cell_type": "code",
   "execution_count": null,
   "id": "19f412a4-af9c-4795-a529-2d6e9d75f2cf",
   "metadata": {
    "tags": []
   },
   "outputs": [],
   "source": [
    "x1 = dict_19[['PRNAME','Down_50_percentile','year']].groupby(['PRNAME','year']).mean()\n",
    "x2 = dict_20[['PRNAME','Down_50_percentile','year']].groupby(['PRNAME','year']).mean()\n",
    "x3 = dict_21[['PRNAME','Down_50_percentile','year']].groupby(['PRNAME','year']).mean()\n",
    "x4 = dict_22[['PRNAME','Down_50_percentile','year']].groupby(['PRNAME','year']).mean()\n",
    "x5 = dict_23[['PRNAME','Down_50_percentile','year']].groupby(['PRNAME','year']).mean()\n",
    "for x in [x1,x2,x3,x4,x5]:\n",
    "    x['Down_50_percentile'] = x['Down_50_percentile']/1024\n",
    "print(x1)\n",
    "\n",
    "fig = plt.subplots(figsize=(15, 15))\n",
    "ax = plt.gca()\n",
    "# fig = plt.figure(figsize=(100, 100), dpi=80)\n",
    "for i in range(len(labels)):\n",
    "        plt.plot([\"2019\",\"2020\",\"2021\",\"2022\",\"2023\"], [x1['Down_50_percentile'][i],x2['Down_50_percentile'][i],x3['Down_50_percentile'][i],x4['Down_50_percentile'][i],x5['Down_50_percentile'][i]], label = labels[i])\n",
    "\n",
    "plt.axhline(y=10)        \n",
    "plt.legend()\n",
    "plt.show()"
   ]
  },
  {
   "cell_type": "code",
   "execution_count": null,
   "id": "46028eeb-48d1-4096-b4a0-0489bf69d83b",
   "metadata": {},
   "outputs": [],
   "source": [
    "x1 = dict_19[['PRNAME','avg_u_kbps','year']].groupby(['PRNAME','year']).mean()\n",
    "x2 = dict_20[['PRNAME','avg_u_kbps','year']].groupby(['PRNAME','year']).mean()\n",
    "x3 = dict_21[['PRNAME','avg_u_kbps','year']].groupby(['PRNAME','year']).mean()\n",
    "x4 = dict_22[['PRNAME','avg_u_kbps','year']].groupby(['PRNAME','year']).mean()\n",
    "x5 = dict_23[['PRNAME','avg_u_kbps','year']].groupby(['PRNAME','year']).mean()\n",
    "for x in [x1,x2,x3,x4,x5]:\n",
    "    x['avg_u_kbps'] = x['avg_u_kbps']/1024\n",
    "print(x1)\n",
    "\n",
    "fig = plt.subplots(figsize=(15, 15))\n",
    "ax = plt.gca()\n",
    "# fig = plt.figure(figsize=(100, 100), dpi=80)\n",
    "for i in range(len(labels)):\n",
    "        plt.plot([\"2019\",\"2020\",\"2021\",\"2022\",\"2023\"], [x1['avg_u_kbps'][i],x2['avg_u_kbps'][i],x3['avg_u_kbps'][i],x4['avg_u_kbps'][i],x5['avg_u_kbps'][i]], label = labels[i])\n",
    "\n",
    "plt.axhline(y=10)        \n",
    "plt.legend()\n",
    "plt.show()"
   ]
  }
 ],
 "metadata": {
  "kernelspec": {
   "display_name": "Python 3 (ipykernel)",
   "language": "python",
   "name": "python3"
  },
  "language_info": {
   "codemirror_mode": {
    "name": "ipython",
    "version": 3
   },
   "file_extension": ".py",
   "mimetype": "text/x-python",
   "name": "python",
   "nbconvert_exporter": "python",
   "pygments_lexer": "ipython3",
   "version": "3.10.10"
  }
 },
 "nbformat": 4,
 "nbformat_minor": 5
}
