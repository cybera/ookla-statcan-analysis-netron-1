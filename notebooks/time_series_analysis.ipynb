{
 "cells": [
  {
   "cell_type": "code",
   "execution_count": null,
   "id": "02336f08-25c4-4032-80c4-19a0fc7624f0",
   "metadata": {},
   "outputs": [],
   "source": [
    "import pandas as pd\n",
    "import numpy as np\n",
    "import geopandas as gp\n",
    "import matplotlib.pyplot as plt \n",
    "import sys\n",
    "import csv\n",
    "sys.path.append(\"..\") # src exists in the parent directory\n",
    "import src.config\n",
    "output_name = \"LastFourQuartersOrBestEstimate_On_DissolvedSmallerCitiesHexes.gpkg\"\n",
    "output_dir = src.config.DATA_DIRECTORY / \"processed\" / \"statistical_geometries\""
   ]
  },
  {
   "cell_type": "code",
   "execution_count": null,
   "id": "ffdf2544-f81c-49f8-899c-bbaf18ed1939",
   "metadata": {},
   "outputs": [],
   "source": [
    "def convert_kbps_to_mbps(table, copy=False):\n",
    "    if copy:\n",
    "        table = table.copy()\n",
    "    for col in table.columns:\n",
    "        if \"kbps\" not in col:\n",
    "            continue\n",
    "        table.loc[:, col] /= 1000\n",
    "        table.rename(columns={col: col.replace(\"kbps\", \"Mbps\")}, inplace=True)\n",
    "    return table"
   ]
  },
  {
   "cell_type": "code",
   "execution_count": null,
   "id": "e13e60d6-fd19-439b-a9c1-e068e9e73314",
   "metadata": {},
   "outputs": [],
   "source": [
    "def load_speed_data():\n",
    "    print(\"Loading speed data...\")\n",
    "\n",
    "    speed_data = gp.read_file(output_dir / output_name, driver=\"GPKG\")\n",
    "\n",
    "    speed_data[\"Ookla_Pop_at_50_10\"] = (\n",
    "        speed_data[\"Pop2016\"] * speed_data[\"ookla_50_10_percentile\"] / 100\n",
    "    )\n",
    "\n",
    "    speed_data = convert_kbps_to_mbps(speed_data)\n",
    "\n",
    "    speed_data[\"is_rural\"] = ~speed_data.PCCLASS.isin([\"2\", \"3\", \"4\"])\n",
    "\n",
    "    # speed_data[\"PRUID\"] = speed_data[\"PRCODE\"].replace(PRCODE_MAP)\n",
    "    speed_data[\"PCCLASS\"] = speed_data[\"PCCLASS\"].fillna(\"\")\n",
    "    return speed_data"
   ]
  },
  {
   "cell_type": "code",
   "execution_count": null,
   "id": "2ab7cd29-671c-42ef-bd19-bfaae4fc5b61",
   "metadata": {
    "tags": []
   },
   "outputs": [],
   "source": [
    "data = load_speed_data()"
   ]
  },
  {
   "cell_type": "code",
   "execution_count": null,
   "id": "48623cc1-5b8b-4a7a-9c10-84f45bb21508",
   "metadata": {
    "tags": []
   },
   "outputs": [],
   "source": [
    "data.columns"
   ]
  },
  {
   "cell_type": "code",
   "execution_count": null,
   "id": "59b4b253-75ed-4b12-8384-e6cfe49347e7",
   "metadata": {
    "tags": []
   },
   "outputs": [],
   "source": [
    "data[data['min_year'] == \"Q1 2019\"].plot.line(x=\"PRCODE\", y=\"avg_d_Mbps\")\n",
    "labels = data['PRCODE'].sort_values().unique()\n",
    "fig = plt.subplots()\n",
    "ax = plt.gca()\n",
    "ax.set_xticklabels(labels)\n",
    "# fig = plt.figure(figsize=(100, 100), dpi=80)\n",
    "for year in [\"2019\",\"2020\",\"2021\",\"2022\",\"2023\"]:\n",
    "    for quarter in [\"Q1\"]:\n",
    "        plot_data = data[data['min_year'] == str(quarter + ' ' + year)]\n",
    "        plot_data1 = plot_data[['PRCODE','avg_d_Mbps']].groupby(['PRCODE']).mean()\n",
    "        # print(plot_data1)\n",
    "        plt.scatter(plot_data1.index.tolist(), plot_data1['avg_d_Mbps'], label = str(quarter + ' ' + year))\n",
    "plt.axhline(y=50)        \n",
    "plt.legend()\n",
    "plt.show()"
   ]
  },
  {
   "cell_type": "code",
   "execution_count": null,
   "id": "2a95b974-b5c1-4159-b809-bbb8017768b3",
   "metadata": {},
   "outputs": [],
   "source": [
    "# x = time y = spped points = provinces"
   ]
  },
  {
   "cell_type": "code",
   "execution_count": null,
   "id": "2c123b6e-a57f-4b74-a402-a221c612160f",
   "metadata": {
    "tags": []
   },
   "outputs": [],
   "source": [
    "data[data['min_year'] == \"Q1 2019\"].plot.line(x=\"PRCODE\", y=\"avg_d_Mbps\")\n",
    "labels = data['PRCODE'].sort_values().unique()\n",
    "fig2 = plt.subplots(figsize=(15, 15))\n",
    "# fig = plt.figure(figsize=(100, 100), dpi=80)\n",
    "# for year in [\"2019\",\"2020\",\"2021\",\"2022\",\"2023\"]:\n",
    "#     for quarter in [\"Q1\",\"Q2\",\"Q3\",\"Q4\"]:\n",
    "#         plot_data = data[data['min_year'] == str(quarter + ' ' + year)]\n",
    "#         plot_data1 = plot_data[['PRCODE','avg_d_Mbps']].groupby(['PRCODE']).mean()\n",
    "#         # print(plot_data1)\n",
    "#         plt.scatter(plot_data1.index.tolist(), plot_data1['avg_d_Mbps'], label = str(quarter + ' ' + year))\n",
    "\n",
    "for province in labels:\n",
    "    plot_data = data[data['PRCODE'] == province]\n",
    "    plot_data = plot_data[plot_data[]]\n",
    "    plot_data1 = plot_data[['min_year', 'min_u_Mbps']].groupby(['min_year']).mean()\n",
    "    print(plot_data1.index)\n",
    "    plt.plot(plot_data1.index.tolist(), plot_data1['min_u_Mbps'], label = province)\n",
    "plt.axhline(y=10)        \n",
    "plt.legend()\n",
    "plt.show()"
   ]
  },
  {
   "cell_type": "code",
   "execution_count": null,
   "id": "c48a85c0-7717-42d1-9d24-012262976b62",
   "metadata": {
    "tags": []
   },
   "outputs": [],
   "source": [
    "dict_19 = pd.read_csv('2019-2020.csv', low_memory=False)\n",
    "dict_20 = pd.read_csv('2020-2021.csv', low_memory=False)\n",
    "dict_21 = pd.read_csv('2021-2022.csv', low_memory=False)\n",
    "dict_22 = pd.read_csv('2022-2023.csv', low_memory=False)\n",
    "dict_23 = pd.read_csv('2023.csv', low_memory=False)\n",
    "dict_19 = dict_19.drop(['geometry','tests','devices','DAUID','PRUID','CDUID','CCSUID','CCSNAME','CSDUID','ERUID','SACCODE','CMAUID','CMAPUID','CMANAME','CMATYPE','CTUID','CTNAME','ADAUID','PCUID','PCPUID'], axis = 1)\n",
    "for d in [dict_20,dict_21,dict_22,dict_23]:\n",
    "    d = d.drop(['geometry','tests','devices','DAUID','PRUID','CDUID','CCSUID','CCSNAME','CSDUID','ERUID','SACCODE','CMAUID','CMAPUID','CMANAME','CMATYPE','CTUID','CTNAME','ADAUID','PCUID','PCPUID'], axis = 1)\n",
    "    pd.concat([dict_19, d], axis = 1)\n",
    "    dict_19.to_csv('Final.csv', index = False)"
   ]
  },
  {
   "cell_type": "code",
   "execution_count": null,
   "id": "8741bfb2-200a-4625-b498-36b17117c550",
   "metadata": {
    "tags": []
   },
   "outputs": [],
   "source": [
    "print(dict_19.index.tolist())\n",
    "\n",
    "x1 = dict_19[['PRNAME','avg_d_kbps','year']].groupby(['PRNAME','year']).mean()\n",
    "x2 = dict_20[['PRNAME','avg_d_kbps','year']].groupby(['PRNAME','year']).mean()\n",
    "x3 = dict_21[['PRNAME','avg_d_kbps','year']].groupby(['PRNAME','year']).mean()\n",
    "x4 = dict_22[['PRNAME','avg_d_kbps','year']].groupby(['PRNAME','year']).mean()\n",
    "x5 = dict_23[['PRNAME','avg_d_kbps','year']].groupby(['PRNAME','year']).mean()\n",
    "for x in [x1,x2,x3,x4,x5]:\n",
    "    x['avg_d_kbps'] = x['avg_d_kbps']/1024\n",
    "    print(len(x.index.tolist()))\n",
    "print(x1)"
   ]
  },
  {
   "cell_type": "code",
   "execution_count": null,
   "id": "4e88dcda-76ec-47f4-b2c0-50a9b1f05f8e",
   "metadata": {
    "tags": []
   },
   "outputs": [],
   "source": [
    "fig = plt.subplots(figsize=(15, 15))\n",
    "ax = plt.gca()\n",
    "# fig = plt.figure(figsize=(100, 100), dpi=80)\n",
    "for i in range(len(labels)):\n",
    "    \n",
    "    plt.plot([\"2019\",\"2020\",\"2021\",\"2022\",\"2023\"], [x1['avg_d_kbps'][i],x2['avg_d_kbps'][i],x3['avg_d_kbps'][i],x4['avg_d_kbps'][i],x5['avg_d_kbps'][i]], label = labels[i])\n",
    "\n",
    "plt.axhline(y=50)        \n",
    "plt.legend()\n",
    "plt.show()"
   ]
  },
  {
   "cell_type": "code",
   "execution_count": null,
   "id": "03d0d670-9a94-402c-907e-d661fd6b4c38",
   "metadata": {
    "tags": []
   },
   "outputs": [],
   "source": [
    "x1 = dict_19[['PRNAME','avg_u_kbps','year']].groupby(['PRNAME','year']).mean()\n",
    "x2 = dict_20[['PRNAME','avg_u_kbps','year']].groupby(['PRNAME','year']).mean()\n",
    "x3 = dict_21[['PRNAME','avg_u_kbps','year']].groupby(['PRNAME','year']).mean()\n",
    "x4 = dict_22[['PRNAME','avg_u_kbps','year']].groupby(['PRNAME','year']).mean()\n",
    "x5 = dict_23[['PRNAME','avg_u_kbps','year']].groupby(['PRNAME','year']).mean()\n",
    "\n",
    "print(dict_19[['PRNAME','avg_u_kbps','year']].groupby(['PRNAME','year']).agg(np.std, ddof=0))\n",
    "\n",
    "for x in [x1,x2,x3,x4,x5]:\n",
    "    x['avg_u_kbps'] = x['avg_u_kbps']/1024\n",
    "print(x1)\n",
    "\n",
    "fig = plt.subplots(figsize=(15, 15))\n",
    "ax = plt.gca()\n",
    "# fig = plt.figure(figsize=(100, 100), dpi=80)\n",
    "for i in range(len(labels)):\n",
    "        plt.plot([\"2019\",\"2020\",\"2021\",\"2022\",\"2023\"], [x1['avg_u_kbps'][i],x2['avg_u_kbps'][i],x3['avg_u_kbps'][i],x4['avg_u_kbps'][i],x5['avg_u_kbps'][i]], label = labels[i])\n",
    "\n",
    "plt.axhline(y=50)        \n",
    "plt.legend()\n",
    "plt.show()"
   ]
  },
  {
   "cell_type": "code",
   "execution_count": null,
   "id": "19f412a4-af9c-4795-a529-2d6e9d75f2cf",
   "metadata": {
    "tags": []
   },
   "outputs": [],
   "source": [
    "x1 = dict_19[['PRNAME','Down_50_percentile','year']].groupby(['PRNAME','year']).mean()\n",
    "x2 = dict_20[['PRNAME','Down_50_percentile','year']].groupby(['PRNAME','year']).mean()\n",
    "x3 = dict_21[['PRNAME','Down_50_percentile','year']].groupby(['PRNAME','year']).mean()\n",
    "x4 = dict_22[['PRNAME','Down_50_percentile','year']].groupby(['PRNAME','year']).mean()\n",
    "x5 = dict_23[['PRNAME','Down_50_percentile','year']].groupby(['PRNAME','year']).mean()\n",
    "for x in [x1,x2,x3,x4,x5]:\n",
    "    x['Down_50_percentile'] = x['Down_50_percentile']/1024\n",
    "print(x1)\n",
    "\n",
    "fig = plt.subplots(figsize=(15, 15))\n",
    "ax = plt.gca()\n",
    "# fig = plt.figure(figsize=(100, 100), dpi=80)\n",
    "for i in range(len(labels)):\n",
    "        plt.plot([\"2019\",\"2020\",\"2021\",\"2022\",\"2023\"], [x1['Down_50_percentile'][i],x2['Down_50_percentile'][i],x3['Down_50_percentile'][i],x4['Down_50_percentile'][i],x5['Down_50_percentile'][i]], label = labels[i])\n",
    "\n",
    "plt.axhline(y=10)        \n",
    "plt.legend()\n",
    "plt.show()"
   ]
  },
  {
   "cell_type": "code",
   "execution_count": null,
   "id": "46028eeb-48d1-4096-b4a0-0489bf69d83b",
   "metadata": {},
   "outputs": [],
   "source": [
    "x1 = dict_19[['PRNAME','avg_u_kbps','year']].groupby(['PRNAME','year']).mean()\n",
    "x2 = dict_20[['PRNAME','avg_u_kbps','year']].groupby(['PRNAME','year']).mean()\n",
    "x3 = dict_21[['PRNAME','avg_u_kbps','year']].groupby(['PRNAME','year']).mean()\n",
    "x4 = dict_22[['PRNAME','avg_u_kbps','year']].groupby(['PRNAME','year']).mean()\n",
    "x5 = dict_23[['PRNAME','avg_u_kbps','year']].groupby(['PRNAME','year']).mean()\n",
    "for x in [x1,x2,x3,x4,x5]:\n",
    "    x['avg_u_kbps'] = x['avg_u_kbps']/1024\n",
    "print(x1)\n",
    "\n",
    "fig = plt.subplots(figsize=(15, 15))\n",
    "ax = plt.gca()\n",
    "# fig = plt.figure(figsize=(100, 100), dpi=80)\n",
    "for i in range(len(labels)):\n",
    "        plt.plot([\"2019\",\"2020\",\"2021\",\"2022\",\"2023\"], [x1['avg_u_kbps'][i],x2['avg_u_kbps'][i],x3['avg_u_kbps'][i],x4['avg_u_kbps'][i],x5['avg_u_kbps'][i]], label = labels[i])\n",
    "\n",
    "plt.axhline(y=10)        \n",
    "plt.legend()\n",
    "plt.show()"
   ]
  }
 ],
 "metadata": {
  "kernelspec": {
   "display_name": "Python 3 (ipykernel)",
   "language": "python",
   "name": "python3"
  },
  "language_info": {
   "codemirror_mode": {
    "name": "ipython",
    "version": 3
   },
   "file_extension": ".py",
   "mimetype": "text/x-python",
   "name": "python",
   "nbconvert_exporter": "python",
   "pygments_lexer": "ipython3",
   "version": "3.10.10"
  }
 },
 "nbformat": 4,
 "nbformat_minor": 5
}
