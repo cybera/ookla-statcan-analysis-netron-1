{
 "cells": [
  {
   "attachments": {},
   "cell_type": "markdown",
   "metadata": {},
   "source": [
    "# Summary\n",
    "Tests/shows usage of the joins module for calculating \n",
    "Statistics Canada access at 50/10 (or other levels) with custom geometry \n",
    "using the Pseudo Household (PHH) data. \n",
    "\n",
    "Produces no output files."
   ]
  },
  {
   "cell_type": "code",
   "execution_count": null,
   "metadata": {},
   "outputs": [],
   "source": [
    "import sys\n",
    "sys.path.append(\"..\")\n",
    "\n",
    "import src.datasets.loading.statcan as statcan\n",
    "import pandas as pd"
   ]
  },
  {
   "cell_type": "code",
   "execution_count": null,
   "metadata": {},
   "outputs": [],
   "source": [
    "import src.datasets.joins as joins"
   ]
  },
  {
   "cell_type": "code",
   "execution_count": null,
   "metadata": {},
   "outputs": [],
   "source": [
    "import src.config"
   ]
  },
  {
   "cell_type": "code",
   "execution_count": null,
   "metadata": {},
   "outputs": [],
   "source": [
    "phh_speed_csv = src.config.DATA_DIRECTORY / 'PHH' / 'CRTC_Speed_Data' / 'PHH_Speeds_Current-PHH_Vitesses_Actuelles.csv'\n",
    "phh_speeds = pd.read_csv(phh_speed_csv)\n",
    "phh_speeds = phh_speeds.merge(statcan.phh_csv_data(), on='PHH_ID')\n",
    "phh_speeds['Pop2016_at_50_10_combined'] = phh_speeds['Combined_50_10_Combine']*phh_speeds['Pop2016']\n",
    "phh_speeds['TDwell_at_50_10_combined'] = phh_speeds['Combined_50_10_Combine']*phh_speeds['TDwell2016_TLog2016']"
   ]
  },
  {
   "cell_type": "code",
   "execution_count": null,
   "metadata": {},
   "outputs": [],
   "source": [
    "phh_speeds"
   ]
  },
  {
   "cell_type": "code",
   "execution_count": null,
   "metadata": {},
   "outputs": [],
   "source": [
    "phh_geo = statcan.phh_geometry()\n",
    "phh_full = phh_geo.merge(phh_speeds, on='PHH_ID')"
   ]
  },
  {
   "cell_type": "code",
   "execution_count": null,
   "metadata": {},
   "outputs": [],
   "source": [
    "phh_full = phh_full[phh_full.Type!=8]"
   ]
  },
  {
   "cell_type": "code",
   "execution_count": null,
   "metadata": {},
   "outputs": [],
   "source": [
    "custom_geometry = joins.hexagons_popctrs_removed()"
   ]
  },
  {
   "cell_type": "code",
   "execution_count": null,
   "metadata": {},
   "outputs": [],
   "source": [
    "custom_geometry"
   ]
  },
  {
   "cell_type": "code",
   "execution_count": null,
   "metadata": {},
   "outputs": [],
   "source": [
    "phh_custom_join = phh_full.sjoin(custom_geometry[['geometry','HEXUID_PCPUID']])"
   ]
  },
  {
   "cell_type": "code",
   "execution_count": null,
   "metadata": {},
   "outputs": [],
   "source": [
    "phh_custom_join.columns"
   ]
  },
  {
   "cell_type": "code",
   "execution_count": null,
   "metadata": {},
   "outputs": [],
   "source": [
    "custom_aggs = phh_custom_join.groupby('HEXUID_PCPUID')[['Pop2016', 'TDwell2016_TLog2016', 'URDwell2016_RH2016','pop_at_50_10_combined', 'TDwell_at_50_10_combined',]].sum()"
   ]
  },
  {
   "cell_type": "code",
   "execution_count": null,
   "metadata": {},
   "outputs": [],
   "source": [
    "custom_aggs.loc['480191']"
   ]
  },
  {
   "cell_type": "code",
   "execution_count": null,
   "metadata": {},
   "outputs": [],
   "source": [
    "f'{1.237646e6:,.0f}'"
   ]
  },
  {
   "cell_type": "code",
   "execution_count": null,
   "metadata": {},
   "outputs": [],
   "source": [
    "custom_aggs.loc['AB51361140-XXXXXX']"
   ]
  },
  {
   "cell_type": "code",
   "execution_count": null,
   "metadata": {},
   "outputs": [],
   "source": [
    "grps = phh_speeds.groupby('HEXUID_IdUHEX')\n",
    "manual_hexagons = pd.concat([\n",
    "    grps['Pop2016'].sum(),\n",
    "    grps['TDwell2016_TLog2016'].sum(),\n",
    "    grps['URDwell2016_RH2016'].sum(),\n",
    "    grps['pop_at_50_10_combined'].sum(),\n",
    "    grps['TDwell_at_50_10_combined'].sum()\n",
    "],axis=1)\n",
    "manual_hexagons['percent_pop_50_10_avail'] = (manual_hexagons['pop_at_50_10_combined']/manual_hexagons['Pop2016']*100)\n",
    "manual_hexagons['percent_dwell_50_10_avail'] = (manual_hexagons['TDwell_at_50_10_combined']/manual_hexagons['TDwell2016_TLog2016']*100)"
   ]
  },
  {
   "cell_type": "code",
   "execution_count": null,
   "metadata": {},
   "outputs": [],
   "source": [
    "samples = manual_hexagons.sample(10).index"
   ]
  },
  {
   "cell_type": "code",
   "execution_count": null,
   "metadata": {},
   "outputs": [],
   "source": [
    "manual_hexagons.loc[samples.values].sort_index()"
   ]
  },
  {
   "cell_type": "code",
   "execution_count": null,
   "metadata": {},
   "outputs": [],
   "source": [
    "statcan.hexagon_data().loc[lambda s:s.HEXuid_HEXidu.isin(samples)].sort_values(by='HEXuid_HEXidu')"
   ]
  },
  {
   "cell_type": "code",
   "execution_count": null,
   "metadata": {},
   "outputs": [],
   "source": []
  },
  {
   "cell_type": "code",
   "execution_count": null,
   "metadata": {},
   "outputs": [],
   "source": [
    "phh_full"
   ]
  }
 ],
 "metadata": {
  "kernelspec": {
   "display_name": "Python 3.10.2 ('datascience')",
   "language": "python",
   "name": "python3"
  },
  "language_info": {
   "codemirror_mode": {
    "name": "ipython",
    "version": 3
   },
   "file_extension": ".py",
   "mimetype": "text/x-python",
   "name": "python",
   "nbconvert_exporter": "python",
   "pygments_lexer": "ipython3",
   "version": "3.10.2 | packaged by conda-forge | (main, Jan 14 2022, 08:03:02) [Clang 11.1.0 ]"
  },
  "orig_nbformat": 4,
  "vscode": {
   "interpreter": {
    "hash": "7baa5682b3ee41d95f3e6c53f6f101854543f295d881c00164f5d254f1692751"
   }
  }
 },
 "nbformat": 4,
 "nbformat_minor": 2
}
