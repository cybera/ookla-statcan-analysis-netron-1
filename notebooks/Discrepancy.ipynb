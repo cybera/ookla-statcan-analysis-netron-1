{
 "cells": [
  {
   "cell_type": "code",
   "execution_count": null,
   "metadata": {},
   "outputs": [],
   "source": [
    "import pandas as pd\n",
    "import numpy as np\n",
    "import geopandas as gp\n",
    "import matplotlib.pyplot as plt \n",
    "import sys\n",
    "sys.path.append(\"..\") # src exists in the parent directory\n",
    "import src.config\n",
    "output_name = \"LastFourQuartersOrBestEstimate_On_DissolvedSmallerCitiesHexes.gpkg\"\n",
    "output_dir = src.config.DATA_DIRECTORY / \"processed\" / \"statistical_geometries\""
   ]
  },
  {
   "cell_type": "code",
   "execution_count": null,
   "metadata": {},
   "outputs": [],
   "source": [
    "def convert_kbps_to_mbps(table, copy=False):\n",
    "    if copy:\n",
    "        table = table.copy()\n",
    "    for col in table.columns:\n",
    "        if \"kbps\" not in col:\n",
    "            continue\n",
    "        table.loc[:, col] /= 1000\n",
    "        table.rename(columns={col: col.replace(\"kbps\", \"Mbps\")}, inplace=True)\n",
    "    return table"
   ]
  },
  {
   "cell_type": "code",
   "execution_count": null,
   "metadata": {},
   "outputs": [],
   "source": [
    "def load_speed_data():\n",
    "    print(\"Loading speed data...\")\n",
    "\n",
    "    speed_data = gp.read_file(output_dir / output_name, driver=\"GPKG\")\n",
    "\n",
    "    speed_data[\"Ookla_Pop_at_50_10\"] = (\n",
    "        speed_data[\"Pop2016\"] * speed_data[\"ookla_50_10_percentile\"] / 100\n",
    "    )\n",
    "\n",
    "    speed_data = convert_kbps_to_mbps(speed_data)\n",
    "\n",
    "    speed_data[\"is_rural\"] = ~speed_data.PCCLASS.isin([\"2\", \"3\", \"4\"])\n",
    "\n",
    "    # speed_data[\"PRUID\"] = speed_data[\"PRCODE\"].replace(PRCODE_MAP)\n",
    "    speed_data[\"PCCLASS\"] = speed_data[\"PCCLASS\"].fillna(\"\")\n",
    "    return speed_data"
   ]
  },
  {
   "cell_type": "code",
   "execution_count": null,
   "metadata": {},
   "outputs": [],
   "source": [
    "def pcclass_percentage_breakdown(sample_data):\n",
    "    stats_table = sample_data.groupby(\"PCCLASS\")[\n",
    "        [\"Pop2016\", \"Pop2016_at_50_10_Combined\", \"Ookla_Pop_at_50_10\"]\n",
    "    ].sum()\n",
    "    stats_table.index = pd.Index(\n",
    "        pd.Series(stats_table.index)\n",
    "        .replace({\"2\": \"Small\", \"3\": \"Medium\", \"4\": \"Large\", \"\": \"Rural\"})\n",
    "        .values\n",
    "    ).rename(\"Population Center Type\")\n",
    "    # stats_table = stats_table.append(\n",
    "    #     sample_data[[\"Pop2016\", \"Pop2016_at_50_10_Combined\", \"Ookla_Pop_at_50_10\"]]\n",
    "    #     .sum()\n",
    "    #     .rename(\"Total\")\n",
    "    # )\n",
    "    other = sample_data[[\"Pop2016\", \"Pop2016_at_50_10_Combined\", \"Ookla_Pop_at_50_10\"]].sum().rename(\"Total\")\n",
    "    other = pd.DataFrame(other).T\n",
    "    stats_table = pd.concat([stats_table, other],axis=0)\n",
    "\n",
    "    stats_table[\"Percentage_StatCan\"] = (\n",
    "        stats_table[\"Pop2016_at_50_10_Combined\"] / stats_table[\"Pop2016\"] * 100\n",
    "    )\n",
    "    stats_table[\"Percentage_Ookla\"] = (\n",
    "        stats_table[\"Ookla_Pop_at_50_10\"] / stats_table[\"Pop2016\"] * 100\n",
    "    )\n",
    "    stats_table.rename(\n",
    "        columns={\"Pop2016_at_50_10_Combined\": \"StatCan_Pop_at_50_10\"}, inplace=True\n",
    "    )\n",
    "\n",
    "    return stats_table"
   ]
  },
  {
   "cell_type": "code",
   "execution_count": null,
   "metadata": {},
   "outputs": [],
   "source": [
    "speed_data = load_speed_data() # Half a minute to load\n",
    "speed_data[\"Discrepancy\"] = speed_data[\"Pop_Avail_50_10\"] - speed_data[\"ookla_50_10_percentile\"]\n",
    "print(speed_data.columns)\n",
    "print(np.shape(speed_data))"
   ]
  },
  {
   "cell_type": "code",
   "execution_count": null,
   "metadata": {},
   "outputs": [],
   "source": [
    "processed_data = pcclass_percentage_breakdown(speed_data)\n",
    "processed_data.columns\n",
    "processed_data"
   ]
  },
  {
   "cell_type": "code",
   "execution_count": null,
   "metadata": {},
   "outputs": [],
   "source": [
    "speed_data.plot.scatter(x=\"Pop_Avail_50_10\", y=\"Discrepancy\", s=4, alpha=0.5)\n",
    "plt.axhline(y=0, color='k')"
   ]
  },
  {
   "cell_type": "markdown",
   "metadata": {},
   "source": [
    "* Are all the large discrepancies above caused by low population/low tests entries?\n",
    "* Sum along axis to quantify the overestimations and underestimations."
   ]
  },
  {
   "cell_type": "code",
   "execution_count": null,
   "metadata": {},
   "outputs": [],
   "source": [
    "speed_data.plot.scatter(x=\"Pop2016\", y=\"Discrepancy\", s=4, alpha=0.5)\n",
    "plt.axhline(y=0, color='k')\n",
    "# Points close to zero discrepancy are also overestimated."
   ]
  },
  {
   "cell_type": "markdown",
   "metadata": {},
   "source": [
    "* Large discrepancies relate to low population entries.\n",
    "* Large population entries have lower discrepancy but consistently overstimated speed by StatCan."
   ]
  },
  {
   "cell_type": "code",
   "execution_count": null,
   "metadata": {},
   "outputs": [],
   "source": [
    "speed_data.plot.scatter(x=\"Pop2016\", y=\"tests\", s=4, alpha=0.5)\n",
    "# plt.xlim(-1,100)\n",
    "# plt.ylim(-1,100)\n",
    "# Lots of regions with very low population"
   ]
  },
  {
   "cell_type": "markdown",
   "metadata": {},
   "source": [
    "* Shows a lot of points in low tests/low population region\n",
    "* How many points? Should they be discarded in the ML model?"
   ]
  },
  {
   "cell_type": "code",
   "execution_count": null,
   "metadata": {},
   "outputs": [],
   "source": [
    "plt.plot(speed_data['Pop2016'].sort_values().cumsum().values)\n",
    "plt.ylabel(\"Cumulative Population\")\n",
    "plt.yscale('log')\n",
    "plt.xlabel(\"Number of sorted rows\")"
   ]
  },
  {
   "cell_type": "markdown",
   "metadata": {},
   "source": [
    "* About 8k entries have close to zero population."
   ]
  },
  {
   "cell_type": "code",
   "execution_count": null,
   "metadata": {},
   "outputs": [],
   "source": [
    "speed_data['tests'].sort_values().isna().cumsum().values[-1]"
   ]
  },
  {
   "cell_type": "markdown",
   "metadata": {},
   "source": [
    "* Over 13k entries have nan tests."
   ]
  },
  {
   "cell_type": "code",
   "execution_count": null,
   "metadata": {},
   "outputs": [],
   "source": [
    "speed_data[speed_data[\"tests\"].isna()].loc[:,['Pop2016', 'PRCODE', 'PCNAME', 'PCCLASS','PCPUID', 'HEXUID_PCPUID', 'Pop_Avail_50_10', 'is_rural']].sort_values('Pop2016')"
   ]
  },
  {
   "cell_type": "markdown",
   "metadata": {},
   "source": [
    "* Most nan tests are from low population entries.\n",
    "* Some nan tests occur for moderate opulation too. What gives?\n",
    "\n",
    "* Why are population numbers fractional? Unit conversion? or, population distributed over multiple hexes?"
   ]
  }
 ],
 "metadata": {
  "kernelspec": {
   "display_name": "Python 3 (ipykernel)",
   "language": "python",
   "name": "python3"
  },
  "language_info": {
   "codemirror_mode": {
    "name": "ipython",
    "version": 3
   },
   "file_extension": ".py",
   "mimetype": "text/x-python",
   "name": "python",
   "nbconvert_exporter": "python",
   "pygments_lexer": "ipython3",
   "version": "3.10.10"
  }
 },
 "nbformat": 4,
 "nbformat_minor": 4
}
