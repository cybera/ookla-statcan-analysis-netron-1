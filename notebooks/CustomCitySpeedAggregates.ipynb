{
 "cells": [
  {
   "attachments": {},
   "cell_type": "markdown",
   "metadata": {},
   "source": [
    "# Summary \n",
    "Tests/demos the subsetted geometry output from the `ArbitrayGeomPHHCalc.ipynb` notebook. \n",
    "Adds basic stats from a single quarter and makes a sample map. "
   ]
  },
  {
   "cell_type": "code",
   "execution_count": null,
   "metadata": {},
   "outputs": [],
   "source": [
    "import sys\n",
    "sys.path.append(\"..\")\n",
    "\n",
    "%load_ext autoreload\n",
    "%autoreload 1\n",
    "%aimport src.datasets.joins\n",
    "%aimport src.datasets.loading.statcan\n",
    "\n",
    "import numpy as np\n",
    "import pandas as pd\n",
    "import matplotlib.pyplot as plt \n",
    "from src.datasets.loading import statcan\n",
    "from src.datasets.loading import ookla\n",
    "from src.datasets import overlays\n",
    "\n",
    "import statsmodels as sm\n",
    "# import statsmodels.stats.weightstats\n",
    "from scipy.stats import lognorm\n",
    "\n",
    "import src.config\n",
    "from pathlib import Path\n",
    "import geopandas as gp\n",
    "import src.datasets.joins as joins"
   ]
  },
  {
   "cell_type": "code",
   "execution_count": null,
   "metadata": {},
   "outputs": [],
   "source": [
    "CRS = 'EPSG:4326'"
   ]
  },
  {
   "cell_type": "code",
   "execution_count": null,
   "metadata": {},
   "outputs": [],
   "source": [
    "popctrs = statcan.boundary('population_centres')"
   ]
  },
  {
   "cell_type": "code",
   "execution_count": null,
   "metadata": {},
   "outputs": [],
   "source": [
    "popctrs.crs"
   ]
  },
  {
   "cell_type": "code",
   "execution_count": null,
   "metadata": {},
   "outputs": [],
   "source": [
    "derived_geometry = (Path(src.config.DATA_DIRECTORY) / 'processed' / 'geometries').resolve()\n",
    "\n",
    "speed_data = gp.read_file(derived_geometry / 'hexagons_w_dissolved_smaller_popctrs.geojson')#, driver='GeoJSON')\n",
    "# #speed_data = speed_data.to_crs(CRS)\n",
    "# speed_data.crs = popctrs.crs #assign crs b/c geojson assumes GPS/epsg:4326\n",
    "speed_data = speed_data.to_crs(popctrs.crs) #now encoded in GPS-Lat/Lon, but we should convert it back"
   ]
  },
  {
   "cell_type": "code",
   "execution_count": null,
   "metadata": {},
   "outputs": [],
   "source": [
    "tiles = ookla.canada_speed_tiles()#.loc[lambda s:(s.year==2022 ) & (s.conn_type=='fixed')]\n",
    "tiles = tiles.to_crs(CRS)"
   ]
  },
  {
   "cell_type": "code",
   "execution_count": null,
   "metadata": {},
   "outputs": [],
   "source": [
    "speed_data = joins.add_simple_stats(speed_data, tiles.loc[lambda s:(s.year==2022) & (s.conn_type=='fixed')], 'HEXUID_PCPUID')\n",
    "speed_data = joins.add_50_10_stats(speed_data, tiles.loc[lambda s:(s.year==2022) & (s.conn_type=='fixed')], 'HEXUID_PCPUID')"
   ]
  },
  {
   "cell_type": "code",
   "execution_count": null,
   "metadata": {},
   "outputs": [],
   "source": [
    "speed_data"
   ]
  },
  {
   "cell_type": "code",
   "execution_count": null,
   "metadata": {},
   "outputs": [],
   "source": [
    "unused_columns = ['pc_area','hex_area','pc_frac', 'hex_frac']\n",
    "for col in unused_columns:\n",
    "    del speed_data[col]"
   ]
  },
  {
   "cell_type": "code",
   "execution_count": null,
   "metadata": {},
   "outputs": [],
   "source": [
    "speed_data['ookla_50_10_percentile'] = speed_data.apply(lambda s:min(s['50_down_percentile'], s['10_up_percentile']), axis=1)"
   ]
  },
  {
   "cell_type": "code",
   "execution_count": null,
   "metadata": {},
   "outputs": [],
   "source": [
    "speed_data.columns"
   ]
  },
  {
   "cell_type": "code",
   "execution_count": null,
   "metadata": {},
   "outputs": [],
   "source": [
    "xmin, ymin, xmax, ymax = popctrs.loc[lambda s:s.PCNAME==\"Lloydminster\"].buffer(90_000).total_bounds\n",
    "speed_data.cx[xmin:xmax,ymin:ymax].loc[lambda s:(s.Pop2016>0) | (s.avg_d_kbps > 0)].explore(\n",
    "    'ookla_50_10_percentile',scheme='equalinterval', k = 4, \n",
    "    tooltip=['HEXUID_PCPUID','PCNAME','Pop2016','Pop_Avail_50_10','ookla_50_10_percentile'],\n",
    "    popup=['HEXUID_PCPUID','PCNAME','min_d_kbps','avg_d_kbps','max_d_kbps','min_u_kbps','avg_u_kbps','max_u_kbps','Pop2016','tests','unique_devices','Pop_Avail_50_10','ookla_50_10_percentile','50_down_percentile','10_up_percentile']\n",
    "    )"
   ]
  }
 ],
 "metadata": {
  "kernelspec": {
   "display_name": "Python 3.10.2 ('datascience')",
   "language": "python",
   "name": "python3"
  },
  "language_info": {
   "codemirror_mode": {
    "name": "ipython",
    "version": 3
   },
   "file_extension": ".py",
   "mimetype": "text/x-python",
   "name": "python",
   "nbconvert_exporter": "python",
   "pygments_lexer": "ipython3",
   "version": "3.10.2"
  },
  "orig_nbformat": 4,
  "vscode": {
   "interpreter": {
    "hash": "7baa5682b3ee41d95f3e6c53f6f101854543f295d881c00164f5d254f1692751"
   }
  }
 },
 "nbformat": 4,
 "nbformat_minor": 2
}
